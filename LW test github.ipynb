{
 "cells": [
  {
   "cell_type": "markdown",
   "metadata": {},
   "source": [
    "### Getting started: Hello World\n",
    "the following refers to this tutorial https://www.youtube.com/watch?v=rfscVS0vtbw&feature=youtu.be"
   ]
  },
  {
   "cell_type": "code",
   "execution_count": 2,
   "metadata": {},
   "outputs": [
    {
     "name": "stdout",
     "output_type": "stream",
     "text": [
      "Hello world\n"
     ]
    }
   ],
   "source": [
    "print('Hello world')"
   ]
  },
  {
   "cell_type": "markdown",
   "metadata": {},
   "source": [
    "### Drawing shapes"
   ]
  },
  {
   "cell_type": "code",
   "execution_count": 3,
   "metadata": {},
   "outputs": [
    {
     "name": "stdout",
     "output_type": "stream",
     "text": [
      "   /|\n",
      "  / |\n",
      " /  |\n",
      "/___|\n"
     ]
    }
   ],
   "source": [
    "print('   /|')\n",
    "print('  / |')\n",
    "print(' /  |')\n",
    "print('/___|')"
   ]
  },
  {
   "cell_type": "markdown",
   "metadata": {},
   "source": [
    "### Variables and Data types"
   ]
  },
  {
   "cell_type": "code",
   "execution_count": 5,
   "metadata": {},
   "outputs": [
    {
     "name": "stdout",
     "output_type": "stream",
     "text": [
      "There once was a man named Tom, \n",
      "he was 35 years.\n",
      "He really liked the name Mike, \n",
      "but didn't like being 35.\n"
     ]
    }
   ],
   "source": [
    "character_name = 'Tom' # Strings are just plain text\n",
    "character_age = '35'   # number in form of a string\n",
    "\n",
    "print('There once was a man named ' + character_name + ', ')\n",
    "print('he was ' + character_age + ' years.')\n",
    "\n",
    "character_name = 'Mike'\n",
    "\n",
    "print('He really liked the name ' + character_name +', ')\n",
    "print(\"but didn't like being \" + character_age + \".\")"
   ]
  },
  {
   "cell_type": "code",
   "execution_count": 7,
   "metadata": {},
   "outputs": [
    {
     "name": "stdout",
     "output_type": "stream",
     "text": [
      "There once was a man named Tom, \n"
     ]
    },
    {
     "ename": "TypeError",
     "evalue": "can only concatenate str (not \"int\") to str",
     "output_type": "error",
     "traceback": [
      "\u001b[1;31m---------------------------------------------------------------------------\u001b[0m",
      "\u001b[1;31mTypeError\u001b[0m                                 Traceback (most recent call last)",
      "\u001b[1;32m<ipython-input-7-ac783fa10383>\u001b[0m in \u001b[0;36m<module>\u001b[1;34m\u001b[0m\n\u001b[0;32m      4\u001b[0m \u001b[1;33m\u001b[0m\u001b[0m\n\u001b[0;32m      5\u001b[0m \u001b[0mprint\u001b[0m\u001b[1;33m(\u001b[0m\u001b[1;34m'There once was a man named '\u001b[0m \u001b[1;33m+\u001b[0m \u001b[0mcharacter_name\u001b[0m \u001b[1;33m+\u001b[0m \u001b[1;34m', '\u001b[0m\u001b[1;33m)\u001b[0m\u001b[1;33m\u001b[0m\u001b[1;33m\u001b[0m\u001b[0m\n\u001b[1;32m----> 6\u001b[1;33m \u001b[0mprint\u001b[0m\u001b[1;33m(\u001b[0m\u001b[1;34m'he was years '\u001b[0m \u001b[1;33m+\u001b[0m \u001b[0mcharacter_age\u001b[0m \u001b[1;33m+\u001b[0m \u001b[1;34m' years.'\u001b[0m\u001b[1;33m)\u001b[0m\u001b[1;33m\u001b[0m\u001b[1;33m\u001b[0m\u001b[0m\n\u001b[0m\u001b[0;32m      7\u001b[0m \u001b[1;33m\u001b[0m\u001b[0m\n\u001b[0;32m      8\u001b[0m \u001b[0mcharacter_name\u001b[0m \u001b[1;33m=\u001b[0m \u001b[1;34m'Mike'\u001b[0m\u001b[1;33m\u001b[0m\u001b[1;33m\u001b[0m\u001b[0m\n",
      "\u001b[1;31mTypeError\u001b[0m: can only concatenate str (not \"int\") to str"
     ]
    }
   ],
   "source": [
    "character_name = 'Tom'\n",
    "character_age = 50 # number in form of a number, also decimal numbers\n",
    "is_male = True # Boolean True or False\n",
    "\n",
    "print('There once was a man named ' + character_name + ', ')\n",
    "print('he was years ' + character_age + ' years.')\n",
    "\n",
    "character_name = 'Mike'\n",
    "\n",
    "print('He really liked the name ' + character_name +', ')\n",
    "print(\"but didn't like being \" + character_age + \".\")"
   ]
  },
  {
   "cell_type": "markdown",
   "metadata": {},
   "source": [
    "### Working with Strings"
   ]
  },
  {
   "cell_type": "code",
   "execution_count": 19,
   "metadata": {},
   "outputs": [
    {
     "name": "stdout",
     "output_type": "stream",
     "text": [
      "test string\n",
      "This is \n",
      " a string\n",
      "This is \\ a string\n",
      "This is ' a string\n"
     ]
    }
   ],
   "source": [
    "print('This is \\n a string')  # \\n creates a new line\n",
    "print('This is \\ a string')   # \\ creates a \\\n",
    "print('This is \\' a string')  # \\' creates a '"
   ]
  },
  {
   "cell_type": "code",
   "execution_count": 22,
   "metadata": {},
   "outputs": [
    {
     "name": "stdout",
     "output_type": "stream",
     "text": [
      "test string for learning\n"
     ]
    }
   ],
   "source": [
    "phrase = 'test string '\n",
    "print(phrase + 'for learning')"
   ]
  },
  {
   "cell_type": "code",
   "execution_count": 28,
   "metadata": {},
   "outputs": [
    {
     "name": "stdout",
     "output_type": "stream",
     "text": [
      "TEST STRING \n",
      "test string \n",
      "False\n",
      "True\n"
     ]
    }
   ],
   "source": [
    "print(phrase.upper())\n",
    "print(phrase.lower())\n",
    "print(phrase.isupper())    # gives me True or False in regards to the phrase\n",
    "print(phrase.upper().isupper())"
   ]
  },
  {
   "cell_type": "code",
   "execution_count": 37,
   "metadata": {},
   "outputs": [
    {
     "name": "stdout",
     "output_type": "stream",
     "text": [
      "12\n",
      "t\n",
      "2\n",
      "5\n",
      "test line \n"
     ]
    }
   ],
   "source": [
    "print(len(phrase))    # length of phrase\n",
    "print(phrase[0])      # select single characters\n",
    "print(phrase.index('s')) # calls index for specific character\n",
    "print(phrase.index('str'))\n",
    "print(phrase.replace('string', 'line'))"
   ]
  },
  {
   "cell_type": "markdown",
   "metadata": {},
   "source": [
    "### Working with Numbers"
   ]
  },
  {
   "cell_type": "code",
   "execution_count": 49,
   "metadata": {},
   "outputs": [
    {
     "name": "stdout",
     "output_type": "stream",
     "text": [
      "-2.0987\n",
      "13.5\n",
      "17\n",
      "27\n",
      "1\n"
     ]
    }
   ],
   "source": [
    "print(-2.0987)\n",
    "print(3 * 4.5)\n",
    "print(3 * 4 + 5)\n",
    "print(3* (4 + 5))\n",
    "print(10 % 3)    # mode: gives out remainder"
   ]
  },
  {
   "cell_type": "code",
   "execution_count": 10,
   "metadata": {},
   "outputs": [
    {
     "name": "stdout",
     "output_type": "stream",
     "text": [
      "-5\n",
      "-5 my favourite number\n",
      "5\n",
      "9\n",
      "6\n",
      "4\n",
      "4\n"
     ]
    }
   ],
   "source": [
    "my_num = -5\n",
    "print(my_num)\n",
    "print(str(my_num) + ' my favourite number')    # str creates a string\n",
    "print(abs(my_num))     # absolute numer\n",
    "print(pow(3,2))        # power to\n",
    "print(max(4, 6))       # prints higher number\n",
    "print(min(4, 6))       # prints lower number\n",
    "print(round(4.2))     # rounds number"
   ]
  },
  {
   "cell_type": "markdown",
   "metadata": {},
   "source": [
    "### Importing"
   ]
  },
  {
   "cell_type": "code",
   "execution_count": 71,
   "metadata": {},
   "outputs": [],
   "source": [
    "from math import *     # math is a module"
   ]
  },
  {
   "cell_type": "code",
   "execution_count": 69,
   "metadata": {},
   "outputs": [
    {
     "name": "stdout",
     "output_type": "stream",
     "text": [
      "3\n",
      "4\n",
      "6.0\n"
     ]
    }
   ],
   "source": [
    "print(floor(3.7))    # chops off decimals\n",
    "print(ceil(3.2))     # always rounds up to higher number\n",
    "print(sqrt(36))"
   ]
  },
  {
   "cell_type": "markdown",
   "metadata": {},
   "source": [
    "### Getting Input from Users"
   ]
  },
  {
   "cell_type": "code",
   "execution_count": 1,
   "metadata": {},
   "outputs": [
    {
     "name": "stdin",
     "output_type": "stream",
     "text": [
      "Enter your name:  Lucia\n",
      "Enter your age:  27\n"
     ]
    },
    {
     "name": "stdout",
     "output_type": "stream",
     "text": [
      "Hello Lucia! You are 27\n"
     ]
    }
   ],
   "source": [
    "name = input('Enter your name: ')\n",
    "age = input('Enter your age: ')\n",
    "print('Hello ' + name + '! You are ' + age)"
   ]
  },
  {
   "cell_type": "markdown",
   "metadata": {},
   "source": [
    "### Building a Calculator"
   ]
  },
  {
   "cell_type": "code",
   "execution_count": 6,
   "metadata": {},
   "outputs": [
    {
     "name": "stdin",
     "output_type": "stream",
     "text": [
      "Enter a number:  4\n",
      "Enter another number:  5.7\n"
     ]
    },
    {
     "name": "stdout",
     "output_type": "stream",
     "text": [
      "9.7\n"
     ]
    }
   ],
   "source": [
    "num1 = input(\"Enter a number: \")\n",
    "num2 = input('Enter another number: ')\n",
    "\n",
    "result = float(num1) + float(num2)                # user input is converted into a string by default - need to be converted into numbers\n",
    "                                                  # int creates integers vs float can handle decimal numbers\n",
    "print(result)"
   ]
  },
  {
   "cell_type": "markdown",
   "metadata": {},
   "source": [
    "### Mad Libs Game"
   ]
  },
  {
   "cell_type": "code",
   "execution_count": 5,
   "metadata": {},
   "outputs": [
    {
     "name": "stdin",
     "output_type": "stream",
     "text": [
      "Enter a colour:  magenta\n",
      "Enter a plural noun:  Microvaves\n",
      "Enter a celebrity:  Tom Hanks\n"
     ]
    },
    {
     "name": "stdout",
     "output_type": "stream",
     "text": [
      "Roses are magenta\n",
      "Microvaves are blue\n",
      "I love Tom Hanks\n"
     ]
    }
   ],
   "source": [
    "colour = input('Enter a colour: ')\n",
    "plural_noun = input('Enter a plural noun: ')\n",
    "celebrity = input('Enter a celebrity: ')\n",
    "\n",
    "print('Roses are ' + colour)\n",
    "print(plural_noun + ' are blue')\n",
    "print('I love ' + celebrity)"
   ]
  },
  {
   "cell_type": "markdown",
   "metadata": {},
   "source": [
    "### Lists"
   ]
  },
  {
   "cell_type": "code",
   "execution_count": 70,
   "metadata": {},
   "outputs": [
    {
     "name": "stdout",
     "output_type": "stream",
     "text": [
      "['Kevin', 'Mike', 'Jim', 'Oscar', 'Toby']\n",
      "Mike\n",
      "Toby\n",
      "['Mike', 'Jim', 'Oscar', 'Toby']\n",
      "['Mike', 'Jim']\n"
     ]
    }
   ],
   "source": [
    "friends = ['Kevin', 'Karen', 'Jim', 'Oscar', 'Toby']  # [] is for values inside lists. also numbers and Booleans in lists possible\n",
    "friends[1] = 'Mike'\n",
    "print(friends)\n",
    "print(friends[1])\n",
    "print(friends[-1])\n",
    "print(friends[1:])\n",
    "print(friends[1:3])"
   ]
  },
  {
   "cell_type": "markdown",
   "metadata": {},
   "source": [
    "### List Functions"
   ]
  },
  {
   "cell_type": "code",
   "execution_count": 15,
   "metadata": {},
   "outputs": [
    {
     "name": "stdout",
     "output_type": "stream",
     "text": [
      "['Kevin', 'Kelly', 'Karen', 'Oscar', 'Toby', 42, 4, 8, 15, 16, 23, 'Creed']\n"
     ]
    }
   ],
   "source": [
    "lucky_numbers = [42, 4, 8, 15, 16, 23]\n",
    "friends = ['Kevin', 'Karen', 'Jim', 'Oscar', 'Toby']\n",
    "friends.extend (lucky_numbers)    # adds whole list\n",
    "friends.append('Creed')           # adds element\n",
    "friends.insert(1, 'Kelly')\n",
    "friends.remove('Jim')\n",
    "print(friends)"
   ]
  },
  {
   "cell_type": "code",
   "execution_count": 16,
   "metadata": {},
   "outputs": [
    {
     "name": "stdout",
     "output_type": "stream",
     "text": [
      "['Kevin', 'Karen', 'Jim', 'Jim', 'Oscar']\n"
     ]
    }
   ],
   "source": [
    "friends = ['Kevin', 'Karen', 'Jim', 'Jim', 'Oscar', 'Toby']\n",
    "friends.pop()                               # removes last list element\n",
    "print(friends)"
   ]
  },
  {
   "cell_type": "code",
   "execution_count": 20,
   "metadata": {},
   "outputs": [
    {
     "name": "stdout",
     "output_type": "stream",
     "text": [
      "3\n",
      "2\n",
      "['Jim', 'Jim', 'Karen', 'Kevin', 'Oscar']\n"
     ]
    }
   ],
   "source": [
    "print(friends.index('Kevin'))               # outputs list position: good for checking if specific element is in list and at what index\n",
    "print(friends.count('Jim'))\n",
    "friends.sort()                              # alphabetical order\n",
    "print(friends)"
   ]
  },
  {
   "cell_type": "code",
   "execution_count": 71,
   "metadata": {},
   "outputs": [],
   "source": [
    "friends.clear()"
   ]
  },
  {
   "cell_type": "code",
   "execution_count": 78,
   "metadata": {},
   "outputs": [
    {
     "name": "stdout",
     "output_type": "stream",
     "text": [
      "[4, 8, 15, 16, 23, 42]\n",
      "[42, 23, 16, 15, 8, 4]\n"
     ]
    }
   ],
   "source": [
    "lucky_numbers.sort()\n",
    "print(lucky_numbers)\n",
    "\n",
    "lucky_numbers.reverse()\n",
    "print(lucky_numbers)"
   ]
  },
  {
   "cell_type": "code",
   "execution_count": 54,
   "metadata": {},
   "outputs": [
    {
     "name": "stdout",
     "output_type": "stream",
     "text": [
      "['Kevin', 'Kelly', 'Karen', 'Oscar', 'Toby', 42, 4, 8, 15, 16, 23, 'Creed']\n"
     ]
    }
   ],
   "source": [
    "friends2 = friends.copy()\n",
    "print(friends2)"
   ]
  },
  {
   "cell_type": "markdown",
   "metadata": {},
   "source": [
    "### Tuples\n",
    "similar to lists but it is immutable: cannot be modified!!\n",
    "\n",
    "list uses [] vs. tuples uses ()\n",
    "\n",
    "--> use tuples for data thet is never going to change"
   ]
  },
  {
   "cell_type": "code",
   "execution_count": 59,
   "metadata": {},
   "outputs": [
    {
     "name": "stdout",
     "output_type": "stream",
     "text": [
      "4\n"
     ]
    }
   ],
   "source": [
    "coordinates = (4, 5)\n",
    "print(coordinates[0])"
   ]
  },
  {
   "cell_type": "code",
   "execution_count": null,
   "metadata": {},
   "outputs": [],
   "source": [
    "cpprdinates = [(4, 5), (6, 7), (80, 34)]     # tuples inside list"
   ]
  },
  {
   "cell_type": "markdown",
   "metadata": {},
   "source": [
    "### Functions\n",
    "\n",
    "collection of code for specific task\n",
    "\n",
    "name in all lower cases with or without _\n",
    "\n",
    "def\n",
    "\n",
    "indentation for anything inside function"
   ]
  },
  {
   "cell_type": "code",
   "execution_count": 62,
   "metadata": {},
   "outputs": [
    {
     "name": "stdout",
     "output_type": "stream",
     "text": [
      "Top\n",
      "Hello user\n",
      "Bottom\n"
     ]
    }
   ],
   "source": [
    "def say_hi():\n",
    "    print('Hello user')\n",
    "print('Top')    \n",
    "say_hi()\n",
    "print('Bottom')"
   ]
  },
  {
   "cell_type": "code",
   "execution_count": 80,
   "metadata": {},
   "outputs": [
    {
     "name": "stdout",
     "output_type": "stream",
     "text": [
      "Hello Mike you are 35\n",
      "Hello Steve you are 70\n"
     ]
    }
   ],
   "source": [
    "def say_hi(name, age):\n",
    "    print('Hello ' + name + ' you are ' + age)\n",
    "    \n",
    "say_hi('Mike', '35')\n",
    "say_hi('Steve', '70')"
   ]
  },
  {
   "cell_type": "code",
   "execution_count": 83,
   "metadata": {},
   "outputs": [
    {
     "name": "stdout",
     "output_type": "stream",
     "text": [
      "Hello Mike you are 35\n",
      "Hello Steve you are 70\n"
     ]
    }
   ],
   "source": [
    "def say_hi(name, age):\n",
    "    print('Hello ' + name + ' you are ' + str(age))\n",
    "    \n",
    "say_hi('Mike', 35)                            # using integers instead of strings\n",
    "say_hi('Steve', 70)"
   ]
  },
  {
   "cell_type": "markdown",
   "metadata": {},
   "source": [
    "### Return Statement for Functions\n",
    "\n",
    "\n",
    "Return statements end the execution of a function and if return is not given  by default it reurns None.\n",
    "\n",
    "Print statement shows the human user a string representing what is going on inside the computer"
   ]
  },
  {
   "cell_type": "code",
   "execution_count": 22,
   "metadata": {},
   "outputs": [
    {
     "name": "stdout",
     "output_type": "stream",
     "text": [
      "64\n"
     ]
    }
   ],
   "source": [
    "def cube(num):\n",
    "    return num*num*num      # need 'return' - without it returns 'none' instead of a value\n",
    "                            # return always breaks up/ ends function: 'print' afterwards does not work\n",
    "    \n",
    "result = cube(4)            # stores value that gets executed. this line not necessary for printing result\n",
    "print(cube(4))"
   ]
  },
  {
   "cell_type": "markdown",
   "metadata": {},
   "source": [
    "### If Statement"
   ]
  },
  {
   "cell_type": "code",
   "execution_count": 103,
   "metadata": {},
   "outputs": [
    {
     "name": "stdout",
     "output_type": "stream",
     "text": [
      "You are male or tall or both\n"
     ]
    }
   ],
   "source": [
    "is_male = True             # in case of False and no else statement nothing executed\n",
    "is_tall = True\n",
    "\n",
    "if is_male or is_tall:              \n",
    "    print('You are male or tall or both')\n",
    "else: \n",
    "    print('You are neither male nor tall')"
   ]
  },
  {
   "cell_type": "code",
   "execution_count": 29,
   "metadata": {},
   "outputs": [
    {
     "name": "stdout",
     "output_type": "stream",
     "text": [
      "You are a short male\n"
     ]
    }
   ],
   "source": [
    "is_male = True\n",
    "is_tall = False\n",
    "\n",
    "if is_male and is_tall:              \n",
    "    print('You are a tall male ')\n",
    "elif is_male and not is_tall:\n",
    "    print('You are a short male')\n",
    "elif not is_male and is_tall:\n",
    "    print('You are not a male but are tall')\n",
    "else: \n",
    "    print('You are not a male and not tall')"
   ]
  },
  {
   "cell_type": "markdown",
   "metadata": {},
   "source": [
    "### If Statements & Comparisons"
   ]
  },
  {
   "cell_type": "code",
   "execution_count": 116,
   "metadata": {},
   "outputs": [
    {
     "name": "stdout",
     "output_type": "stream",
     "text": [
      "300\n"
     ]
    }
   ],
   "source": [
    "def max_num(num1, num2, num3):\n",
    "    if num1 >= num2 and num1 >= num3:    # also works for strings\n",
    "        return num1\n",
    "    elif num2 >= num1 and num2 >= num3:\n",
    "        return rum2\n",
    "    else:\n",
    "        return num3\n",
    "\n",
    "print(max_num(300 ,40 ,5 ))"
   ]
  },
  {
   "cell_type": "code",
   "execution_count": 115,
   "metadata": {},
   "outputs": [
    {
     "name": "stdout",
     "output_type": "stream",
     "text": [
      "300\n"
     ]
    }
   ],
   "source": [
    "def max_num(num1, num2, num3):\n",
    "    if 'dog' == 'dog' and num1 >= num3:    # also works for strings\n",
    "        return num1\n",
    "    elif num2 >= num1 and num2 >= num3:\n",
    "        return rum2\n",
    "    else:\n",
    "        return num3\n",
    "\n",
    "print(max_num(300 ,40 ,5 ))"
   ]
  },
  {
   "cell_type": "markdown",
   "metadata": {},
   "source": [
    "== equal and != not equal"
   ]
  },
  {
   "cell_type": "markdown",
   "metadata": {},
   "source": [
    "### Building a Better Calculator"
   ]
  },
  {
   "cell_type": "code",
   "execution_count": 2,
   "metadata": {},
   "outputs": [
    {
     "name": "stdin",
     "output_type": "stream",
     "text": [
      "Enter first number:  5\n",
      "Enter operator:  4\n",
      "Enter second number:  4\n"
     ]
    },
    {
     "name": "stdout",
     "output_type": "stream",
     "text": [
      "Invalid operator\n"
     ]
    }
   ],
   "source": [
    "num1 = float(input('Enter first number: '))\n",
    "op = input('Enter operator: ')\n",
    "num2 = float(input('Enter second number: '))\n",
    "\n",
    "if op == '+':\n",
    "    print(num1 + num2)\n",
    "elif op == '-':\n",
    "    print(num1 - num2)\n",
    "elif op == '/':\n",
    "    print(num1 / num2)\n",
    "elif op == '*':\n",
    "    print(num1 * num2)\n",
    "else:\n",
    "    print('Invalid operator')"
   ]
  },
  {
   "cell_type": "markdown",
   "metadata": {},
   "source": [
    "### Dictionaries\n",
    "allows to store information\n",
    "\n",
    "uses {}\n",
    "\n",
    "uses keys (Jan, Feb..) and their values (January, February..)"
   ]
  },
  {
   "cell_type": "code",
   "execution_count": 25,
   "metadata": {},
   "outputs": [
    {
     "name": "stdout",
     "output_type": "stream",
     "text": [
      "November\n",
      "April\n",
      "None\n",
      "Not a valid key\n"
     ]
    }
   ],
   "source": [
    "monthConversions = {\n",
    "    'Jan': 'January',\n",
    "    'Feb': 'February',\n",
    "    'Mar': 'March',\n",
    "    'Apr': 'April',\n",
    "    'May': 'May',\n",
    "    'Jun': 'June',\n",
    "    'Jul': 'July', \n",
    "    8: 'August',\n",
    "    9: 'September',\n",
    "    10: 'November',\n",
    "}\n",
    "\n",
    "print(monthConversions[10])\n",
    "print(monthConversions.get('Apr'))\n",
    "print(monthConversions.get('Luv'))\n",
    "print(monthConversions.get('Luv', 'Not a valid key'))"
   ]
  },
  {
   "cell_type": "markdown",
   "metadata": {},
   "source": [
    "### While Loop\n",
    "loops through code until False; \n",
    "\n",
    "a while loop will “do” something as long as or until a condition is met."
   ]
  },
  {
   "cell_type": "code",
   "execution_count": 12,
   "metadata": {},
   "outputs": [
    {
     "name": "stdout",
     "output_type": "stream",
     "text": [
      "1\n",
      "2\n",
      "3\n",
      "4\n",
      "5\n",
      "6\n",
      "7\n",
      "8\n",
      "9\n",
      "10\n",
      "Done with loop\n"
     ]
    }
   ],
   "source": [
    "i = 1\n",
    "while i <= 10:\n",
    "    print(i)\n",
    "    i += 1          # same as i = i + 1\n",
    "    \n",
    "print('Done with loop')"
   ]
  },
  {
   "cell_type": "markdown",
   "metadata": {},
   "source": [
    "### Building a Guessing Game"
   ]
  },
  {
   "cell_type": "code",
   "execution_count": 2,
   "metadata": {},
   "outputs": [
    {
     "name": "stdin",
     "output_type": "stream",
     "text": [
      "Enter guess:  \n",
      "Enter guess:  \n",
      "Enter guess:  \n"
     ]
    },
    {
     "name": "stdout",
     "output_type": "stream",
     "text": [
      "Out of guesses, YOU LOSE!\n"
     ]
    }
   ],
   "source": [
    "secret_word = 'giraffe'\n",
    "guess = ''\n",
    "guess_count = 0\n",
    "guess_limit = 3\n",
    "out_of_guesses = False\n",
    "\n",
    "while guess != secret_word and not out_of_guesses:\n",
    "    if guess_count < guess_limit:\n",
    "        guess = input('Enter guess: ')\n",
    "        guess_count += 1\n",
    "    else:\n",
    "        out_of_guesses = True\n",
    "        \n",
    "if out_of_guesses:\n",
    "    print('Out of guesses, YOU LOSE!')\n",
    "else:    \n",
    "    print('You win!')"
   ]
  },
  {
   "cell_type": "markdown",
   "metadata": {},
   "source": [
    "### For Loop\n",
    "\n",
    "special loop that allows to loop through different items;\n",
    "\n",
    "A for loop will “do” something to everything which you wish to iterate through."
   ]
  },
  {
   "cell_type": "code",
   "execution_count": 42,
   "metadata": {},
   "outputs": [
    {
     "name": "stdout",
     "output_type": "stream",
     "text": [
      "Jim\n",
      "Karen\n",
      "Kevin\n"
     ]
    }
   ],
   "source": [
    "friends = ['Jim', 'Karen', 'Kevin']\n",
    "for name in friends:\n",
    "    print(name)"
   ]
  },
  {
   "cell_type": "code",
   "execution_count": 32,
   "metadata": {},
   "outputs": [
    {
     "name": "stdout",
     "output_type": "stream",
     "text": [
      "3\n",
      "4\n",
      "5\n",
      "6\n",
      "7\n",
      "8\n",
      "9\n"
     ]
    }
   ],
   "source": [
    "for index in range(3, 10):\n",
    "    print(index)"
   ]
  },
  {
   "cell_type": "code",
   "execution_count": 43,
   "metadata": {},
   "outputs": [
    {
     "name": "stdout",
     "output_type": "stream",
     "text": [
      "Jim\n",
      "Karen\n",
      "Kevin\n"
     ]
    }
   ],
   "source": [
    "friends = ['Jim', 'Karen', 'Kevin']\n",
    "\n",
    "for index in range(len(friends)):\n",
    "    print(friends[index])"
   ]
  },
  {
   "cell_type": "code",
   "execution_count": 46,
   "metadata": {},
   "outputs": [
    {
     "name": "stdout",
     "output_type": "stream",
     "text": [
      "first iteration\n",
      "not first\n",
      "not first\n",
      "not first\n",
      "not first\n"
     ]
    }
   ],
   "source": [
    "for index in range(5):\n",
    "    if index == 0:\n",
    "        print('first iteration')\n",
    "    else:\n",
    "        print('not first')\n",
    "    "
   ]
  },
  {
   "cell_type": "markdown",
   "metadata": {},
   "source": [
    "### Exponent Function"
   ]
  },
  {
   "cell_type": "code",
   "execution_count": 3,
   "metadata": {},
   "outputs": [
    {
     "name": "stdout",
     "output_type": "stream",
     "text": [
      "8\n"
     ]
    }
   ],
   "source": [
    "print(2**3)"
   ]
  },
  {
   "cell_type": "code",
   "execution_count": 38,
   "metadata": {},
   "outputs": [
    {
     "name": "stdout",
     "output_type": "stream",
     "text": [
      "3200000\n"
     ]
    }
   ],
   "source": [
    "def raise_to_power(base_num, pow_num):\n",
    "    result = 1      # return base_num * base_num if power = base\n",
    "    for index in range(pow_num):\n",
    "        result = result * base_num\n",
    "    return result\n",
    "\n",
    "print(raise_to_power(20,5))"
   ]
  },
  {
   "cell_type": "markdown",
   "metadata": {},
   "source": [
    "### 2D Lists & Nested Loops"
   ]
  },
  {
   "cell_type": "code",
   "execution_count": 12,
   "metadata": {},
   "outputs": [
    {
     "name": "stdout",
     "output_type": "stream",
     "text": [
      "1\n"
     ]
    }
   ],
   "source": [
    "number_grid = [\n",
    "    [1, 2, 3],\n",
    "    [4, 5, 6],\n",
    "    [7, 8, 9],\n",
    "    [0]\n",
    "]\n",
    "\n",
    "print(number_grid[0] [0])"
   ]
  },
  {
   "cell_type": "markdown",
   "metadata": {},
   "source": [
    "for loop inside for loop"
   ]
  },
  {
   "cell_type": "code",
   "execution_count": 14,
   "metadata": {},
   "outputs": [
    {
     "name": "stdout",
     "output_type": "stream",
     "text": [
      "1\n",
      "2\n",
      "3\n",
      "4\n",
      "5\n",
      "6\n",
      "7\n",
      "8\n",
      "9\n",
      "0\n"
     ]
    }
   ],
   "source": [
    "number_grid = [\n",
    "    [1, 2, 3],\n",
    "    [4, 5, 6],\n",
    "    [7, 8, 9],\n",
    "    [0]\n",
    "]\n",
    "\n",
    "for row in number_grid:\n",
    "    for col in row:\n",
    "        print(col)"
   ]
  },
  {
   "cell_type": "markdown",
   "metadata": {},
   "source": [
    "### Build a Translator"
   ]
  },
  {
   "cell_type": "markdown",
   "metadata": {},
   "source": [
    "Giraffe Language: vowels -> g\n",
    "\n",
    "dog -> dgg\n",
    "\n",
    "cat -> cgt"
   ]
  },
  {
   "cell_type": "code",
   "execution_count": 21,
   "metadata": {},
   "outputs": [
    {
     "name": "stdin",
     "output_type": "stream",
     "text": [
      "Enter a phrase:  On\n"
     ]
    },
    {
     "name": "stdout",
     "output_type": "stream",
     "text": [
      "Gn\n"
     ]
    }
   ],
   "source": [
    "def translate(phrase):\n",
    "    translation = ''\n",
    "    for letter in phrase:\n",
    "        if letter.lower() in 'aeiou':\n",
    "            if letter.isupper():\n",
    "                translation = translation + 'G'\n",
    "            else:\n",
    "                translation = translation + 'g'\n",
    "        else:\n",
    "                translation = translation + letter\n",
    "    return translation\n",
    "print(translate(input('Enter a phrase: ')))"
   ]
  },
  {
   "cell_type": "markdown",
   "metadata": {},
   "source": [
    "## Try Except to handle errors"
   ]
  },
  {
   "cell_type": "code",
   "execution_count": 42,
   "metadata": {},
   "outputs": [
    {
     "ename": "SyntaxError",
     "evalue": "invalid syntax (<ipython-input-42-032055484701>, line 2)",
     "output_type": "error",
     "traceback": [
      "\u001b[1;36m  File \u001b[1;32m\"<ipython-input-42-032055484701>\"\u001b[1;36m, line \u001b[1;32m2\u001b[0m\n\u001b[1;33m    answer 10/0     # delete this line to test out 'invalid input error by entering letters instead of a number'\u001b[0m\n\u001b[1;37m            ^\u001b[0m\n\u001b[1;31mSyntaxError\u001b[0m\u001b[1;31m:\u001b[0m invalid syntax\n"
     ]
    }
   ],
   "source": [
    "try:\n",
    "    answer 10/0     # delete this line to test out 'invalid input error by entering letters instead of a number'\n",
    "    number = int(input('Enter a number: '))\n",
    "    print(number)       # throws error when entering letters\n",
    "except ZeroDivisionError as err:    # throws actual error\n",
    "    print('err')    \n",
    "except ValueError:\n",
    "    print('Invalid input')"
   ]
  },
  {
   "cell_type": "markdown",
   "metadata": {},
   "source": [
    "### Reading Files"
   ]
  },
  {
   "cell_type": "code",
   "execution_count": 5,
   "metadata": {},
   "outputs": [
    {
     "name": "stdout",
     "output_type": "stream",
     "text": [
      "True\n",
      "Jim - Salesman\n",
      "Dwight - Salesman\n",
      "Pam - Receptionist\n",
      "Michael - Manager\n",
      "Oscar - Accountant\n",
      "\n",
      "\n"
     ]
    },
    {
     "ename": "IndexError",
     "evalue": "list index out of range",
     "output_type": "error",
     "traceback": [
      "\u001b[1;31m---------------------------------------------------------------------------\u001b[0m",
      "\u001b[1;31mIndexError\u001b[0m                                Traceback (most recent call last)",
      "\u001b[1;32m<ipython-input-5-174877ede712>\u001b[0m in \u001b[0;36m<module>\u001b[1;34m\u001b[0m\n\u001b[0;32m      5\u001b[0m \u001b[0mprint\u001b[0m\u001b[1;33m(\u001b[0m\u001b[0memployee_file\u001b[0m\u001b[1;33m.\u001b[0m\u001b[0mread\u001b[0m\u001b[1;33m(\u001b[0m\u001b[1;33m)\u001b[0m\u001b[1;33m)\u001b[0m        \u001b[1;31m# returns all information\u001b[0m\u001b[1;33m\u001b[0m\u001b[1;33m\u001b[0m\u001b[0m\n\u001b[0;32m      6\u001b[0m \u001b[0mprint\u001b[0m\u001b[1;33m(\u001b[0m\u001b[0memployee_file\u001b[0m\u001b[1;33m.\u001b[0m\u001b[0mreadline\u001b[0m\u001b[1;33m(\u001b[0m\u001b[1;33m)\u001b[0m\u001b[1;33m)\u001b[0m    \u001b[1;31m# reads first line - if same code again then reads second line\u001b[0m\u001b[1;33m\u001b[0m\u001b[1;33m\u001b[0m\u001b[0m\n\u001b[1;32m----> 7\u001b[1;33m \u001b[0mprint\u001b[0m\u001b[1;33m(\u001b[0m\u001b[0memployee_file\u001b[0m\u001b[1;33m.\u001b[0m\u001b[0mreadlines\u001b[0m\u001b[1;33m(\u001b[0m\u001b[1;33m)\u001b[0m\u001b[1;33m[\u001b[0m\u001b[1;36m1\u001b[0m\u001b[1;33m]\u001b[0m\u001b[1;33m)\u001b[0m   \u001b[1;31m# gives out a list, can specify index\u001b[0m\u001b[1;33m\u001b[0m\u001b[1;33m\u001b[0m\u001b[0m\n\u001b[0m\u001b[0;32m      8\u001b[0m \u001b[1;33m\u001b[0m\u001b[0m\n\u001b[0;32m      9\u001b[0m \u001b[1;32mfor\u001b[0m \u001b[0memployee\u001b[0m \u001b[1;32min\u001b[0m \u001b[0memployee_file\u001b[0m\u001b[1;33m.\u001b[0m\u001b[0mreadlines\u001b[0m\u001b[1;33m(\u001b[0m\u001b[1;33m)\u001b[0m\u001b[1;33m:\u001b[0m    \u001b[1;31m# other option for printing out each line\u001b[0m\u001b[1;33m\u001b[0m\u001b[1;33m\u001b[0m\u001b[0m\n",
      "\u001b[1;31mIndexError\u001b[0m: list index out of range"
     ]
    }
   ],
   "source": [
    "# file must be in same folder otherwise need to input directory\n",
    "employee_file = open('LW_beginners_course_test_file.py', 'r')   # r = read, w = write, a= append for adding new information, r+ = read and write\n",
    "\n",
    "print(employee_file.readable())    # checks if file is readable\n",
    "print(employee_file.read())        # returns all information\n",
    "print(employee_file.readline())    # reads first line - if same code again then reads second line\n",
    "print(employee_file.readlines()[1])   # gives out a list, can specify index\n",
    "\n",
    "for employee in employee_file.readlines():    # other option for printing out each line\n",
    "    print(employee)\n",
    "    \n",
    "    \n",
    "employee_file.close()     # always make sure to close file at some point"
   ]
  },
  {
   "cell_type": "markdown",
   "metadata": {},
   "source": [
    "### Writing to Files"
   ]
  },
  {
   "cell_type": "code",
   "execution_count": 6,
   "metadata": {},
   "outputs": [],
   "source": [
    "employee_file = open('LW_beginners_course_test_file.py', 'a')\n",
    "employee_file.write('Toby - Human Resources')\n",
    "employee_file.write('\\nKelly - Customer Service')\n",
    "employee_file.close()      # written directly in txt file\n",
    "# !! running code again will append again "
   ]
  },
  {
   "cell_type": "code",
   "execution_count": 8,
   "metadata": {},
   "outputs": [],
   "source": [
    "employee_file = open('LW_beginners_course_test_file.py', 'w')    # will overwrite\n",
    "employee_file.write('Toby - Human Resources')\n",
    "employee_file.close()     "
   ]
  },
  {
   "cell_type": "code",
   "execution_count": 9,
   "metadata": {},
   "outputs": [],
   "source": [
    "employee_file = open('LW_beginners_course_test_file.py2', 'w')    # creates a new file by using different appendix\n",
    "employee_file.write('Toby - Human Resources')\n",
    "employee_file.close() "
   ]
  },
  {
   "cell_type": "markdown",
   "metadata": {},
   "source": [
    "### Modules and Pip\n",
    "\n",
    "use 'LW beginners course additional tools file'"
   ]
  },
  {
   "cell_type": "code",
   "execution_count": 3,
   "metadata": {},
   "outputs": [
    {
     "name": "stdout",
     "output_type": "stream",
     "text": [
      "7\n"
     ]
    }
   ],
   "source": [
    "import LW_beginners_course_additional_tools\n",
    "\n",
    "print(LW_beginners_course_additional_tools.roll_dice(10))"
   ]
  },
  {
   "cell_type": "markdown",
   "metadata": {},
   "source": [
    "many python modules online at docs.python.org and other pages\n",
    "\n",
    "built in and external modules ()\n",
    "\n",
    "pip for installing modules (package manager): type 'cmd' in Windows command field to enter comment prompt\n",
    "\n",
    "check if pip is installed by typing: 'pip -- version' (newer versions have it preinstalled)\n",
    "\n",
    "type in pip install 'name of python module' (for example python-docx) for installing it on PC\n",
    "\n",
    "then use import docx for importing module in python\n",
    "\n",
    "pip also works for uninstalling modules"
   ]
  },
  {
   "cell_type": "markdown",
   "metadata": {},
   "source": [
    "### Classes & Objects\n",
    "\n",
    "for information that cannot be represented in numbers, strings and booleans\n",
    "\n",
    "a class is another data type for modelling real objects"
   ]
  },
  {
   "cell_type": "code",
   "execution_count": 1,
   "metadata": {},
   "outputs": [
    {
     "name": "stdout",
     "output_type": "stream",
     "text": [
      "3.1\n"
     ]
    }
   ],
   "source": [
    "from student import Student\n",
    "\n",
    "student1 = Student('Jim', 'Business', 3.1, False)\n",
    "student2 = Student('Pam', 'Art', 2.5, True)\n",
    "print(student1.gpa)              # prints actual gpa"
   ]
  },
  {
   "cell_type": "code",
   "execution_count": 2,
   "metadata": {},
   "outputs": [
    {
     "data": {
      "text/plain": [
       "'C:\\\\Users\\\\lucia\\\\Documents\\\\PhD Cambridge\\\\Python_Tutorial\\\\LW beginners course Youtube'"
      ]
     },
     "execution_count": 2,
     "metadata": {},
     "output_type": "execute_result"
    }
   ],
   "source": [
    "pwd"
   ]
  },
  {
   "cell_type": "markdown",
   "metadata": {},
   "source": [
    "### Bulding a Multiple Choice Quiz"
   ]
  },
  {
   "cell_type": "code",
   "execution_count": null,
   "metadata": {},
   "outputs": [],
   "source": [
    "from LW_beginners_course_questions import Question\n",
    "\n",
    "question_prompts = [\n",
    "    'What colour are apples?\\n(a) Red/Green\\n(b) Purple\\n(c) Orange\\n\\n',\n",
    "    'What colour are bananas?\\n(a) Teal\\n(b) Magenta\\n(c) Yellow\\n\\n',\n",
    "    'What colour are strawberries?\\n(a) Yellow\\n(b) Red\\n(c) Blue\\n\\n'  \n",
    "]\n",
    "\n",
    "questions = [\n",
    "    Question(question_prompts[0], 'a'),\n",
    "    Question(question_prompts[1], 'c'),\n",
    "    Question(question_prompts[2], 'b'),\n",
    "]\n",
    "\n",
    "def run_test(questions):\n",
    "    score = 0\n",
    "    for question in questions:\n",
    "        answer = input(question.prompt)\n",
    "        if answer == question.answer:\n",
    "            score +=1\n",
    "    print('You got ' + str(score) + '/' + str(len(questions)) + ' correct')    #str converts number into string\n",
    "    \n",
    "run_test(questions)"
   ]
  },
  {
   "cell_type": "markdown",
   "metadata": {},
   "source": [
    "### Object Function"
   ]
  },
  {
   "cell_type": "code",
   "execution_count": 8,
   "metadata": {},
   "outputs": [
    {
     "name": "stdout",
     "output_type": "stream",
     "text": [
      "False\n",
      "True\n"
     ]
    }
   ],
   "source": [
    "class Student:       # class and function on_honour_roll could be stored in and imported from a seperate file\n",
    "    def __init__(self, name, major, gpa):\n",
    "        self.name = name\n",
    "        self.major = major\n",
    "        self.gpa = gpa\n",
    "        \n",
    "    def on_honor_roll(self):\n",
    "        if self.gpa >= 3.5:\n",
    "            return True\n",
    "        else:\n",
    "            return False\n",
    "        \n",
    "student1 = Student('Oscar', 'Accounting', 3.1)\n",
    "student2 = Student('Phyllis', 'Business', 3.8)\n",
    "\n",
    "print(student1.on_honor_roll())\n",
    "print(student2.on_honor_roll())"
   ]
  },
  {
   "cell_type": "markdown",
   "metadata": {},
   "source": [
    "### Inheritance"
   ]
  },
  {
   "cell_type": "code",
   "execution_count": 7,
   "metadata": {},
   "outputs": [
    {
     "name": "stdout",
     "output_type": "stream",
     "text": [
      "The chef makes a chicken\n",
      "The chef makes orange rice\n"
     ]
    }
   ],
   "source": [
    "class Chef:     # both classes could be stored in and imported from seperate files\n",
    "    \n",
    "    def make_chicken(self):\n",
    "        print('The chef makes a chicken')\n",
    "        \n",
    "    def make_salad(self):\n",
    "        print('The chef makes a salad')\n",
    "        \n",
    "    def make_special_dish(self):\n",
    "        print('The chef makes bbq ribs')\n",
    "        \n",
    "class ChineseChef(Chef):      # import Chef class before\n",
    "   \n",
    "    def make_special_dish(self):\n",
    "        print('The chef makes orange rice')\n",
    "    \n",
    "    def make_fried_rice(self):\n",
    "        print('The chef makes fried rice')\n",
    "        \n",
    "        \n",
    "myChef = Chef()\n",
    "myChef.make_chicken()\n",
    "\n",
    "myChineseChef = ChineseChef()\n",
    "myChineseChef.make_special_dish()"
   ]
  },
  {
   "cell_type": "markdown",
   "metadata": {},
   "source": [
    "### Python Interpreter\n",
    "\n",
    "windows search function - 'cmd' to enter commend prompt - type 'python3' enter: can use python language in command prompt\n",
    "\n",
    "can be used for quick tests (not for writing actual programs)"
   ]
  }
 ],
 "metadata": {
  "kernelspec": {
   "display_name": "Python 3",
   "language": "python",
   "name": "python3"
  },
  "language_info": {
   "codemirror_mode": {
    "name": "ipython",
    "version": 3
   },
   "file_extension": ".py",
   "mimetype": "text/x-python",
   "name": "python",
   "nbconvert_exporter": "python",
   "pygments_lexer": "ipython3",
   "version": "3.7.6"
  }
 },
 "nbformat": 4,
 "nbformat_minor": 4
}
