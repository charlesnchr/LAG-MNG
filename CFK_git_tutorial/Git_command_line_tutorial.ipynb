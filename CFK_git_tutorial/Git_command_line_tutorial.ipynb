{
 "cells": [
  {
   "cell_type": "markdown",
   "metadata": {},
   "source": [
    "# Command line Github\n",
    "\n",
    "\n",
    "This script has three parts. \n",
    "\n",
    "**Part 1** is for easy reference for those who have done command line git before and need to remind themselves quickly of the most important commands / work flows. \n",
    "\n",
    "**Part 2** takes you slowly through the git command line process in a step by step fashion.  Go through this, if you haven't used git before or need a refresher. \n",
    "\n",
    "**Part 3** is a simple exercise. \n",
    "\n",
    "I highly recommend this [video tutorial](https://www.youtube.com/watch?v=HVsySz-h9r4&t=675s), much of this script is really just a summary of what you find there.\n",
    "\n",
    "Here is also a [useful tutorial](https://product.hubspot.com/blog/git-and-github-tutorial-for-beginners).\n"
   ]
  },
  {
   "cell_type": "markdown",
   "metadata": {},
   "source": [
    "## Part 1: Git command line reference\n",
    "\n",
    "**The 3 git stages:**\n",
    "\n",
    "1. *working directory*: contains all your files, including those that you have created or changed since your last commit. Committing means telling git you want to make a record of changes you have made to a file, or several files. This is an essential step for you to be able to go back to previous versions in time.\n",
    "1. *staging area*:  This allows you to organise which files you want to commit and in what sequence.  For example you may have worked on multiple files at once. So you can commit these at different times (stage the commits) and write explanations about each one of these changes.    \n",
    "1. *.git directory* This is the repository that contains all committed versions\n"
   ]
  },
  {
   "cell_type": "markdown",
   "metadata": {},
   "source": [
    "initialise git:\n",
    "\n",
    "* `git config --global user.name \"<name> e.g. clemenskam\"`\n",
    "* `git config --global user.email \"<email> e.g. cfk23@cam.ac.uk\"`\n",
    "* `git config --list` :  shows global settings for git\n",
    "\n",
    "\n",
    "\n",
    "* `git init`: initialise tracking\n",
    "* `git status`: show tracking status\n",
    "* `git help`\n",
    "* `git help <verb>` or `git <verb> --help`: get help on a command\n"
   ]
  },
  {
   "cell_type": "markdown",
   "metadata": {},
   "source": [
    "add files to staging area:\n",
    "\n",
    "* `git add -A`  adds all file to staging area!\n",
    "* `git add filename`:  adds individual filename\n",
    "* `git reset filename`: removes files from staging area\n",
    "* `git reset` : removes all files from staging area\n",
    "\n",
    "\n"
   ]
  },
  {
   "cell_type": "markdown",
   "metadata": {},
   "source": [
    "Commit files:\n",
    "\n",
    "* `git commit -m \"message with details\"` \n",
    "* `git log`"
   ]
  },
  {
   "cell_type": "markdown",
   "metadata": {},
   "source": [
    "Create a new repository on GitHub\n",
    "\n",
    "* Sign in to GitHub and click `+New repository` button\n",
    "\n",
    "* Github asks whether youwant to create a new repo from scratch or if you want to add a repo you have created locally.  If you want latter, choose `...or push an existing repository from the command line`\n",
    "\n",
    "* ```shell\n",
    "git remote add <name, e.g. origin> <url, e.g.https://github.com/user/repo.git>\n",
    "```  \n",
    "Sets a new remote repository\n",
    "\n",
    "* ``` shell\n",
    "git push -u <name of remote repository, e.g. origin> <name of your branch:e.g. master>\n",
    "```\n",
    "\n",
    "* ``` shell\n",
    "git remote -v\n",
    "```\n",
    "Verifies remote repository\n"
   ]
  },
  {
   "cell_type": "markdown",
   "metadata": {},
   "source": [
    "Cloning a remote repo. To see details on this explained in depth [see video here.](http://www.youtube.com/watch?v=HVsySz-h9r4&t=15m40s)\n",
    "\n",
    "* `git clone <url> <where to clone>`\n",
    "* `git clone <url of ../remote_repo.git> .`  Clone remote repository into current directory (dot at end means current directory)\n"
   ]
  },
  {
   "cell_type": "markdown",
   "metadata": {},
   "source": [
    "Viewing info about remote repo\n",
    "\n",
    "* `git remote -v`  lists remote repo\n",
    "* `git branch -a` lists all branches in repo\n",
    "* `git diff` shows differences made since last commit\n",
    "* `git pull origin master` do not forget this: there could be changes on the remote repository made by others\n",
    "* `git push origin master` "
   ]
  },
  {
   "cell_type": "markdown",
   "metadata": {},
   "source": [
    "Common work flow:\n",
    "\n",
    "Create a branch for a desired feature\n",
    "\n",
    "* `git branch <name of branch>`   creates a new branc\n",
    "* `git checkout <name of branch>`  Switches to another branch\n",
    "* `git branch` lists all available branches\n",
    "* `git push -u origin <name of branch>` push branch to remote\n",
    "* `git branch -a` Gives full information n ll ranches"
   ]
  },
  {
   "cell_type": "markdown",
   "metadata": {},
   "source": [
    "Merge a branch\n",
    "\n",
    "* `git checkout master` \n",
    "* `git pull origin master`\n",
    "* `git branch --merged`  shows which branches have been merged so far\n",
    "* `git merge <branch name>`  merges branch with branch you are currently in\n",
    "* `git push origin master`\n",
    "* `git branch --merged`  after merging both branches should appear"
   ]
  },
  {
   "cell_type": "markdown",
   "metadata": {},
   "source": [
    "Deleting a branch\n",
    "\n",
    "* `git branch -d <branch name>` deletes branch, deletes it locally. \n",
    "* `git branch -a` shows all branches local and remote\n",
    "* `git push origin --delete <branch name>` deletes the branch also remotely\n"
   ]
  },
  {
   "cell_type": "markdown",
   "metadata": {},
   "source": [
    "## Win Powershell vs Terminal\n",
    "\n",
    "|Win Powershell|Mac Terminal|\n",
    "|-|-|\n",
    "|ls -Force -Recurse |  ls -la |\n",
    "|Set-Location ..\\..\\ | cd ../../ | | \n",
    "|notepad .gitignore |  touch .gitignore |\n",
    "|Remove-Item -Recurse -Force .git | rm -rf .git|\n",
    "|Remove-Item -Recurse -Force .gitignore | rm -rf .gitignore|\n",
    "\n"
   ]
  },
  {
   "cell_type": "markdown",
   "metadata": {},
   "source": [
    "## Part 2: Introduction to git:"
   ]
  },
  {
   "cell_type": "markdown",
   "metadata": {},
   "source": [
    "* Install git environment from Anaconda Navigator (-> Environments->Not Installed->search for git):  \n",
    "\n",
    "<img src=\"images/anaconda_git_install.png\"/>\n",
    "\n",
    "* Ensure git is properly installed locally by opening a terminal in terminal from Jupyter interface (File -> New -> Terminal):\n",
    "\n",
    "    \n",
    "    git version\n",
    "\n",
    "you should get something like:\n",
    "\n",
    "    (base) clemens@Clemenss-iMac 2_Git_Tutorial % git version\n",
    "    git version 2.24.2 (Apple Git-127)"
   ]
  },
  {
   "cell_type": "markdown",
   "metadata": {},
   "source": [
    "Identify user and email to initialise github:\n",
    "\n",
    "    git config --global user.name \"<name> e.g. clemenskam\"\n",
    "    git config --global user.email \"<email> e.g. cfk23@cam.ac.uk\"\n",
    "    git config --list"
   ]
  },
  {
   "cell_type": "markdown",
   "metadata": {},
   "source": [
    "\n",
    "Show git working tree:\n",
    "\n",
    "    git status\n",
    "    \n",
    "Get help:\n",
    "\n",
    "    git help\n",
    "    git help <verb>\n",
    "    or: git <verb> --help\n",
    "    e.g.: git help status\n",
    "    \n",
    "\n",
    "Begin tracking with git:\n",
    "\n",
    "    git init\n",
    "\n",
    "Stop tracking by removing .git directory\n",
    "\n",
    "    rm -rf .git\n",
    "    \n",
    "Put files you don't want to track into a .gitignore file.  touch command creates a textfile that can be edited with standard editors. From command line use `nano`.\n",
    "    \n",
    "    touch .gitignore\n",
    "    nano .gitignore"
   ]
  },
  {
   "cell_type": "markdown",
   "metadata": {},
   "source": [
    "**start tracking:**\n",
    "\n",
    "list all files in current directory\n",
    "\n",
    "    ls -la\n",
    " \n",
    "yields, for example:\n",
    "\n",
    "    (base) clemens@Clemenss-iMac 2_Git_Tutorial % ls -la\n",
    "    total 40\n",
    "    drwxr-xr-x@  8 clemens  staff   256 Jun  3 09:10 .\n",
    "    drwxr-xr-x@ 12 clemens  staff   384 Jun  2 18:11 ..\n",
    "    -rw-r--r--@  1 clemens  staff  6148 Jun  3 09:10 .DS_Store\n",
    "    drwxr-xr-x@ 13 clemens  staff   416 Jun  3 09:02 .git\n",
    "    -rw-r--r--@  1 clemens  staff     0 Apr 11 19:24 .gitignore\n",
    "    drwxr-xr-x@  3 clemens  staff    96 Jun  3 09:06 .ipynb_checkpoints\n",
    "    -rw-r--r--@  1 clemens  staff  4369 Jun  3 09:10 Git_command_line_tutorial.ipynb\n",
    "    -rw-r--r--@  1 clemens  staff   283 Apr 11 20:30 README.md\n",
    "    \n",
    "    \n",
    "presence of .git directoryt shows that git is actived for this directory (and subdirectories).  "
   ]
  },
  {
   "cell_type": "markdown",
   "metadata": {},
   "source": [
    "**begin tracking:**\n",
    "\n",
    "    git init\n",
    "    ls -la\n",
    "    \n",
    "leads to:\n",
    "\n",
    "    drwxr-xr-x@  9 clemens  staff   288 Jun  3 09:40 .git\n",
    "    \n",
    ".git entry is a directory that contains everything that is related to git tracking. Note that in file explorer / mac finder this might be invisible.  On Mac hit: <command + shift + dot> to make hidden directories visible.  In terminal, use <ls -la>\n",
    "    \n",
    "   "
   ]
  },
  {
   "cell_type": "markdown",
   "metadata": {},
   "source": [
    "**check git status:**\n",
    "\n",
    "You see that initially no files are tracked, since you haven't told git yet which files you want tracked:\n",
    "\n",
    "```\n",
    "(base) clemens@Clemenss-iMac 2_Git_Tutorial % git status\n",
    "On branch master\n",
    "\n",
    "No commits yet\n",
    "\n",
    "Untracked files:\n",
    "  (use \"git add <file>...\" to include in what will be committed)\n",
    "        .DS_Store\n",
    "        .ipynb_checkpoints/\n",
    "        Git_command_line_tutorial.ipynb\n",
    "        README.md\n",
    "\n",
    "nothing added to commit but untracked files present (use \"git add\" to track)\n",
    "```"
   ]
  },
  {
   "cell_type": "markdown",
   "metadata": {},
   "source": [
    "**ignoring files:**\n",
    "\n",
    "Put files you don't want to track into a .gitignore file.  touch command creates a textfile that can be edited with standard editors. From command line use `nano`.\n",
    "    \n",
    "    touch .gitignore\n",
    "    nano .gitignore\n",
    "    \n",
    "For example, excluding the .DS_Store and .ipynb_checkpoints/ files, include these in the .gitignore.  Then, running \n",
    "\n",
    "    git status\n",
    "    \n",
    "yields:\n",
    "\n",
    "    (base) clemens@Clemenss-iMac 2_Git_Tutorial % git status     \n",
    "    On branch master\n",
    "\n",
    "    No commits yet\n",
    "\n",
    "    Untracked files:\n",
    "      (use \"git add <file>...\" to include in what will be committed)\n",
    "        .gitignore\n",
    "        Git_command_line_tutorial.ipynb\n"
   ]
  },
  {
   "cell_type": "markdown",
   "metadata": {},
   "source": [
    "**Add files to staging area:**\n",
    "\n",
    "    git add .gitignore\n",
    "    git status\n",
    " \n",
    "would yield:\n",
    "\n",
    "    Changes to be committed:\n",
    "      (use \"git rm --cached <file>...\" to unstage)\n",
    "            new file:   .gitignore\n",
    "\n",
    "    Untracked files:\n",
    "      (use \"git add <file>...\" to include in what will be committed)\n",
    "            Git_command_line_tutorial.ipynb\n",
    "            images/\n",
    "    "
   ]
  },
  {
   "cell_type": "markdown",
   "metadata": {},
   "source": [
    "Adding all files to staging area (except this in .gitignore):\n",
    "\n",
    "    git add -A"
   ]
  },
  {
   "cell_type": "markdown",
   "metadata": {},
   "source": [
    "**stop tracking:**\n",
    "\n",
    "Simply remove old git files to reset system:\n",
    "    \n",
    "    rm -rf .git\n",
    "    rm -rf .gitignore\n",
    " \n",
    "leads to:\n",
    "\n",
    "    drwxr-xr-x@  6 clemens  staff   192 Jun  3 09:38 .\n",
    "    drwxr-xr-x@ 12 clemens  staff   384 Jun  2 18:11 ..\n",
    "    -rw-r--r--@  1 clemens  staff  6148 Jun  3 09:10 .DS_Store\n",
    "    drwxr-xr-x@  3 clemens  staff    96 Jun  3 09:06 .ipynb_checkpoints\n",
    "    -rw-r--r--@  1 clemens  staff  5478 Jun  3 09:38 Git_command_line_tutorial.ipynb\n",
    "    -rw-r--r--@  1 clemens  staff   283 Apr 11 20:30 README.md\n"
   ]
  },
  {
   "cell_type": "markdown",
   "metadata": {},
   "source": [
    "## Part 3: Exercise\n",
    "\n",
    "* Fork the [LAG-MNG](https://github.com/charlesnchr/LAG-MNG) repository on the github website\n",
    "* Clone the forked repository to your machine (you can also clone and then fork)\n",
    "* Update the repository with some new code (e.g. add a file or a folder)\n",
    "* Commit the change \n",
    "* Push the commit (you'll see your online forked repo update)\n",
    "* Perform a pull request on the github page. This will prompt a request to merge your new code to the master repository"
   ]
  },
  {
   "cell_type": "code",
   "execution_count": null,
   "metadata": {},
   "outputs": [],
   "source": []
  }
 ],
 "metadata": {
  "file_extension": ".py",
  "kernelspec": {
   "display_name": "Python 3",
   "language": "python",
   "name": "python3"
  },
  "language_info": {
   "codemirror_mode": {
    "name": "ipython",
    "version": 3
   },
   "file_extension": ".py",
   "mimetype": "text/x-python",
   "name": "python",
   "nbconvert_exporter": "python",
   "pygments_lexer": "ipython3",
   "version": "3.7.3"
  },
  "mimetype": "text/x-python",
  "name": "python",
  "npconvert_exporter": "python",
  "pygments_lexer": "ipython3",
  "version": 3
 },
 "nbformat": 4,
 "nbformat_minor": 4
}
