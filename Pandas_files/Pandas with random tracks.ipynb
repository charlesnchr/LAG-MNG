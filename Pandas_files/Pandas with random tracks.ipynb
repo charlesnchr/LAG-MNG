{
 "cells": [
  {
   "cell_type": "markdown",
   "metadata": {},
   "source": [
    "# An introduction to Pandas using simulated random tracks"
   ]
  },
  {
   "cell_type": "markdown",
   "metadata": {},
   "source": [
    "LAG-MNG Python lecture, 26/05/2020\n",
    "\n",
    "Francesca van Tartwijk"
   ]
  },
  {
   "cell_type": "markdown",
   "metadata": {},
   "source": [
    "## 1. Introduction"
   ]
  },
  {
   "cell_type": "markdown",
   "metadata": {},
   "source": [
    "Welcome to a new LAG-MNG Python notebook! This week, the topic is Pandas, a library that can help you work with large tabular datasets.\n",
    "\n",
    "This notebook has the following sections:\n",
    "- Introduction (You are Here)\n",
    "- Pandas and its usefulness\n",
    "- Generating an *E. coli*-inspired dataset\n",
    "- The Pandas dataframe\n",
    "- Data visualisation with Pandas\n",
    "- Further resources\n",
    "- Exercises\n",
    "\n",
    "We will first briefly discuss what Pandas really is, and why you might want to use it. Then, we'll introduce a simple model that generates Pandas DataFrames with which we can play. We will then use these DataFrames to learn the properties of DataFrames by example, and to get some practice in data visualisation using Pandas."
   ]
  },
  {
   "cell_type": "markdown",
   "metadata": {},
   "source": [
    "## 2. Pandas and its usefulness"
   ]
  },
  {
   "cell_type": "markdown",
   "metadata": {},
   "source": [
    "Pandas is a Python library for data management. As a library, it can be imported and then used in any interpreter that has the corresponding module installed. Notably, it has several 'dependencies', including NumPy (it relies on NumPy functionalities to work), so you must also have installed NumPy if you want to use Pandas. Like NumPy, it can be used to work with datasets, but rather than working with arrays, it works with tabular data."
   ]
  },
  {
   "cell_type": "markdown",
   "metadata": {},
   "source": [
    "Pandas DataFrames are a bit like tables, and therefore may remind you of Excel spreadsheets, but they can be used in ways Excel cannot! Each column is a labelled array of values, and so you can use Numpy vectorised operations to very quickly access only the values in which you are interested (and then perform operations on them). It deals well with missing data values, as well as with time series data and non-homogenous arrays. The library also has a range of plotting functions that you can apply to DataFrames."
   ]
  },
  {
   "cell_type": "markdown",
   "metadata": {},
   "source": [
    "## 3. Generating an *E. coli*-inspired dataset"
   ]
  },
  {
   "cell_type": "markdown",
   "metadata": {},
   "source": [
    "A tracking dataset is good example of a type of dataset that has a large number of entries and may be outputted in a tabular format. Here, will we use a model that generates tracks and also returns some parameters describing features of those tracks. The model is inspired by a real biological system."
   ]
  },
  {
   "cell_type": "markdown",
   "metadata": {},
   "source": [
    "A very famous example of a motile biological entity is *Escherichia coli*, which moves towards certain molecules (attractants) and away from others (repellents) in a process known as chemotaxis. (The signalling pathway underpinning chemotactic behaviour has been carefully studied, as well as how it affects the flagellar motors that drive locomotion; see 'Further resources' at the end of this document if you'd like to learn more.) However, rather than moving directly up an attractant gradient (or down a repellent gradient), the cell executes a so-called 'biased random walk'. "
   ]
  },
  {
   "cell_type": "markdown",
   "metadata": {},
   "source": [
    "In the context of chemotaxis, biased random walks are a form of motion in which net displacement of the cell occurs in a favourable direction, even though the orientation of each segment of the track is random. *E. coli* movement is characterised by 'runs' and 'tumbles'. When all flagella are bundled together, the cell moves smoothly forward, but when they disperse, it is no longer propelled in one direction. Due to its small size (small particle Reynolds number), the cell rapidly comes to a stop when propulsion ceases. It then reorients randomly under Brownian motion, until the flagella bundle up again, at which point it again moves forward in whatever direction it happened to be oriented. In the presence of higher attractant concentrations, tumbles are suppressed, which leads to net movement up the attractant gradient. However, due to the adaptation inherent to the chemotaxis signalling pathways, tumbles are not completely suppressed (this contributes to the system's large dynamic range). The following diagram illustrates this type of movement:\n",
    "\n",
    "<img src=\"biasedrandom.png\" />"
   ]
  },
  {
   "cell_type": "markdown",
   "metadata": {},
   "source": [
    "The code below generates a large number of biased random walks in the presence of an attractant, in two dimensions. Run length here depends on three variables: time since the last tumble (to give some form of adaptation), attractant concentration, and a random number generator (to reflect some of the stochasticity of switching behaviour). It is not intended to represent the biochemical or biophysical basis of the chemotactic behaviour of *E. coli*, nor indeed to truly recapitulate that behaviour. Instead, its purpose is primarily to give you a fun (biology-inspired) and rapidly constructable dataset with which to learn Pandas! You don't need to understand every line below in order to continue to the next section. "
   ]
  },
  {
   "cell_type": "code",
   "execution_count": 54,
   "metadata": {},
   "outputs": [],
   "source": [
    "'''\n",
    "This code generates a dataset of biased random walks that is stored in Pandas DataFrames.\n",
    "'''\n",
    "\n",
    "# Import required libraries\n",
    "import numpy as np\n",
    "import matplotlib.pyplot as plt\n",
    "import random\n",
    "import math\n",
    "import pandas as pd\n",
    "\n",
    "\n",
    "# Constants\n",
    "START_TIME = 0.0 #do not modify\n",
    "END_TIME = 20.0 #duration of tracking 'experiment'\n",
    "TIME_INCREMENT = 0.1 #time step size\n",
    "STEP_NUMBER = int(END_TIME/TIME_INCREMENT) #do not modify\n",
    "\n",
    "WORLD_SIZE_X = 10.0 #world width \n",
    "WORLD_SIZE_Y = 10.0 #world height\n",
    "\n",
    "START_POSITION_RANDOM = True #toggle whether start position is random\n",
    "START_POSITION = (5.0, 5.0) #start position if not random (set to centre of world, may be modified)\n",
    "\n",
    "TOTAL_SPEED = 1.2 #assumed to be constant property of bacterium in given environment\n",
    "\n",
    "TUMBLE_THRESHOLD = 0.6 #threshold used by reorientation function; higher threshold makes reorientation less likely\n",
    "\n",
    "REPEAT_NUMBER = 1000 #number of tracks to be obtained\n",
    "\n",
    "\n",
    "# Helper functions\n",
    "def test_out_of_bounds(x, y, velocity_x, velocity_y):\n",
    "    '''\n",
    "    Test whether the cell has reached the walls of the world and reset velocity components to make cell bounce off \n",
    "    wall if appropriate. Collisions are assumed to be perfectly elastic with the wall infinitely heavy.\n",
    "    '''\n",
    "    if x >= WORLD_SIZE_X or x <= 0:\n",
    "        velocity_x = -velocity_x\n",
    "    if y >= WORLD_SIZE_Y or y <= 0:\n",
    "        velocity_y = -velocity_y\n",
    "    return (velocity_x, velocity_y)\n",
    "\n",
    "def attractant_distribution(x, y):\n",
    "    '''\n",
    "    Describes the distribution of an attractant. This can be modified by the user.\n",
    "    Note the function should not have zero values within the range of coordinates included in the world.\n",
    "    '''\n",
    "    #attractant_concentration = 0.15*x**2 - 0.15*y**2 + 0.1\n",
    "    attractant_concentration = 1 + 5*x\n",
    "    return attractant_concentration\n",
    "\n",
    "def set_speed():\n",
    "    '''\n",
    "    Sets x- and y-components of the velocity to random values.\n",
    "    The vector magnitude (TOTAL_SPEED) is kept constant.\n",
    "    '''\n",
    "    velocity_x = random.uniform(-TOTAL_SPEED, TOTAL_SPEED) #randomise x-component of velocity\n",
    "    velocity_y = (TOTAL_SPEED**2 - velocity_x**2) #use formula for vector magnitude\n",
    "    random_orientation_y = random.uniform(-1,1) #magnitude of velocity_y is fixed when velocity_x is fixed, but not sign\n",
    "    if random_orientation_y >= 0.0: #use random number to determine sign of y-component\n",
    "        velocity_y = -velocity_y\n",
    "    return (velocity_x, velocity_y)\n",
    "\n",
    "def set_start_position():\n",
    "    '''\n",
    "    Generate a random start position for each track\n",
    "    '''\n",
    "    x = random.uniform(0.0,10.0)\n",
    "    y = random.uniform(0.0,10.0)\n",
    "    return (x,y)\n",
    "\n",
    "def update_position(x, y, velocity_x, velocity_y):\n",
    "    '''\n",
    "    Update the position of the cell with each time step.\n",
    "    '''\n",
    "    x = x + velocity_x * TIME_INCREMENT\n",
    "    y = y + velocity_y * TIME_INCREMENT\n",
    "    return (x, y)\n",
    "\n",
    "def reorientation(time, time_last_tumble, x, y):\n",
    "    '''\n",
    "    Determines whether the cell should reorient at a given time (returns a Boolean).\n",
    "    Reorientation probability depends on the time since last tumble and the attractant concentration.\n",
    "    A random component is added using a random number generator (motor switching is partly stochastic).\n",
    "    '''\n",
    "    attractant_concentration = attractant_distribution(x, y)\n",
    "    \n",
    "    time_since_last_tumble = time - time_last_tumble\n",
    "    random_number = random.uniform(0.0,5.0)\n",
    "    time_dependent_random_number = time_since_last_tumble * random_number\n",
    "    \n",
    "    return (time_dependent_random_number / attractant_concentration) > TUMBLE_THRESHOLD\n",
    "\n",
    "def get_track():\n",
    "    '''\n",
    "    Generates a random track using the specified constants. \n",
    "    A random start position may be chosen, or this may be specified as a constant\n",
    "    '''\n",
    "    cell_location_x = np.zeros(STEP_NUMBER) #set up empty array to store track x-coordinates\n",
    "    cell_location_y = np.zeros(STEP_NUMBER) #set up empty array to store track y-coordinates\n",
    "    run_length = [] #set up empty list in which to store run lengths (in units of time)\n",
    "    \n",
    "    time = START_TIME\n",
    "    time_last_tumble = START_TIME\n",
    "    (velocity_x, velocity_y) = set_speed()\n",
    "    \n",
    "    if START_POSITION_RANDOM:\n",
    "        start_position = set_start_position()\n",
    "        (x,y) = start_position\n",
    "    else:\n",
    "        (x,y) = START_POSITION\n",
    "    \n",
    "    for i in range(STEP_NUMBER):\n",
    "        (velocity_x, velocity_y) = test_out_of_bounds(x,y, velocity_x, velocity_y)\n",
    "        (x, y) = update_position(x, y, velocity_x, velocity_y)\n",
    "        cell_location_x[i] = x\n",
    "        cell_location_y[i] = y\n",
    "        time = time + TIME_INCREMENT\n",
    "        if reorientation(time, time_last_tumble, x, y):\n",
    "            (velocity_x, velocity_y) = set_speed()\n",
    "            run_length.append(time-time_last_tumble)\n",
    "            time_last_tumble = time\n",
    "    end_position = (x,y)\n",
    "            \n",
    "    return cell_location_x, cell_location_y, run_length, start_position, end_position\n",
    "\n",
    "\n",
    "#main function (obtain database for multiple tracks)\n",
    "'''\n",
    "Generates and stores a number (REPEAT_NUMBER) of random tracks produced by get_track().\n",
    "Results are stored in lists. Associated track numbers are stored in separate lists.\n",
    "'''\n",
    "run_length_database = [] #create empty lists that will become dataframe columns\n",
    "run_length_track_numbers_database = []\n",
    "x_coordinate_database = []\n",
    "y_coordinate_database = []\n",
    "coordinate_track_numbers_database = []\n",
    "x_displacement_database = []\n",
    "y_displacement_database = []\n",
    "displacement_track_numbers_database = []\n",
    "\n",
    "for i in range(REPEAT_NUMBER):\n",
    "    (cell_location_x, cell_location_y, run_length, start_position, end_position) = get_track()\n",
    "    \n",
    "    run_length_database.extend(run_length) #add new values to future columns\n",
    "    x_coordinate_database.extend(cell_location_x)\n",
    "    y_coordinate_database.extend(cell_location_y)\n",
    "    x_displacement_database.append(end_position[0]-start_position[0])\n",
    "    y_displacement_database.append(end_position[1]-start_position[1])\n",
    "    \n",
    "    run_length_track_number = [i]*len(run_length) #generate lists of track numbers to associate with values in columns\n",
    "    run_length_track_numbers_database.extend(run_length_track_number)\n",
    "    coordinate_track_number = [i]*len(cell_location_x)\n",
    "    coordinate_track_numbers_database.extend(coordinate_track_number)\n",
    "    displacement_track_numbers_database.append(i)\n",
    "\n",
    "    \n",
    "#dataframe creation\n",
    "'''\n",
    "Stores the track coordinates and relevant parameters in Pandas dataframes.\n",
    "'''\n",
    "df_coordinates = pd.DataFrame([coordinate_track_numbers_database, x_coordinate_database, y_coordinate_database])\n",
    "df_coordinates = df_coordinates.transpose()\n",
    "df_coordinates.columns = ['track_number_coordinate','x_coordinate', 'y_coordinate']\n",
    "\n",
    "df_run_lengths = pd.DataFrame([run_length_track_numbers_database, run_length_database])\n",
    "df_run_lengths = df_run_lengths.transpose()\n",
    "df_run_lengths.columns = ['track_number_run', 'run_length']\n",
    "\n",
    "df_displacements = pd.DataFrame([displacement_track_numbers_database, x_displacement_database, y_displacement_database])\n",
    "df_displacements = df_displacements.transpose()\n",
    "df_displacements.columns = ['track_number_displacement', 'x_displacement', 'y_displacement']"
   ]
  },
  {
   "cell_type": "markdown",
   "metadata": {},
   "source": [
    "We can plot the last of the resulting tracks to visualise the output of ```get_track()```, before we start exploring the whole dataset:"
   ]
  },
  {
   "cell_type": "code",
   "execution_count": 58,
   "metadata": {},
   "outputs": [
    {
     "data": {
      "image/png": "[encoded data removed]",
      "text/plain": [
       "<Figure size 432x288 with 1 Axes>"
      ]
     },
     "metadata": {
      "needs_background": "light"
     },
     "output_type": "display_data"
    }
   ],
   "source": [
    "#plotting the output of get_track()\n",
    "'''\n",
    "Plots a random track using arrays of coordinates returned by get_track().\n",
    "Labels the track start point.\n",
    "Plots the attractant distribution as a contour plot. \n",
    "(Warning: the contour plotting will produce an error for a constant attractant concentration,)\n",
    "'''\n",
    "plt.plot(cell_location_x.T, cell_location_y.T, 'k') #take transpose of arrays to associate coordinates appropriately\n",
    "axes = plt.gca()\n",
    "axes.set_xlim([0.0,10.0])\n",
    "axes.set_ylim([0.0,10.0])\n",
    "axes.set_xlabel('x-coordinate')\n",
    "axes.set_ylabel('y-coordinate')\n",
    "\n",
    "plt.annotate('start', start_position) #annotate the track start position\n",
    "\n",
    "xa, ya = np.meshgrid(np.arange(0.0,10.0,0.05), np.arange(0.0,10.0,0.05))\n",
    "plt.contour(xa, ya, attractant_distribution(xa, ya)) \n",
    "CS = axes.contour(xa, ya, attractant_distribution(xa,ya))\n",
    "axes.clabel(CS, inline=1, fontsize=12, fmt='%1.1f')\n",
    "\n",
    "#plt.savefig('track.pdf')\n",
    "plt.show()"
   ]
  },
  {
   "cell_type": "markdown",
   "metadata": {},
   "source": [
    "## 4. The Pandas DataFrame"
   ]
  },
  {
   "cell_type": "markdown",
   "metadata": {},
   "source": [
    "The code above stored the outputs for each track into three different DataFrames (df_coordinates, df_runlengths, and df_displacements). As mentioned previously, these are table-like objects (in particular Python terminology, they are a instances of a class object type), with columns and rows. Columns have headings, and rows have indices, which enable you to access them in an intuitive way. Let's have a quick look at the df_coordinates DataFrame to explore what this looks like when displayed:"
   ]
  },
  {
   "cell_type": "code",
   "execution_count": 59,
   "metadata": {},
   "outputs": [
    {
     "name": "stdout",
     "output_type": "stream",
     "text": [
      "   track_number_coordinate  x_coordinate  y_coordinate\n",
      "0                      0.0      2.717695      1.329136\n",
      "1                      0.0      2.830259      1.311843\n",
      "2                      0.0      2.942823      1.294550\n",
      "3                      0.0      3.055387      1.277256\n",
      "4                      0.0      3.167951      1.259963\n"
     ]
    },
    {
     "data": {
      "text/html": [
       "<div>\n",
       "<style scoped>\n",
       "    .dataframe tbody tr th:only-of-type {\n",
       "        vertical-align: middle;\n",
       "    }\n",
       "\n",
       "    .dataframe tbody tr th {\n",
       "        vertical-align: top;\n",
       "    }\n",
       "\n",
       "    .dataframe thead th {\n",
       "        text-align: right;\n",
       "    }\n",
       "</style>\n",
       "<table border=\"1\" class=\"dataframe\">\n",
       "  <thead>\n",
       "    <tr style=\"text-align: right;\">\n",
       "      <th></th>\n",
       "      <th>track_number_coordinate</th>\n",
       "      <th>x_coordinate</th>\n",
       "      <th>y_coordinate</th>\n",
       "    </tr>\n",
       "  </thead>\n",
       "  <tbody>\n",
       "    <tr>\n",
       "      <th>199997</th>\n",
       "      <td>999.0</td>\n",
       "      <td>0.787237</td>\n",
       "      <td>6.423998</td>\n",
       "    </tr>\n",
       "    <tr>\n",
       "      <th>199998</th>\n",
       "      <td>999.0</td>\n",
       "      <td>0.874808</td>\n",
       "      <td>6.491312</td>\n",
       "    </tr>\n",
       "    <tr>\n",
       "      <th>199999</th>\n",
       "      <td>999.0</td>\n",
       "      <td>0.962378</td>\n",
       "      <td>6.558626</td>\n",
       "    </tr>\n",
       "  </tbody>\n",
       "</table>\n",
       "</div>"
      ],
      "text/plain": [
       "        track_number_coordinate  x_coordinate  y_coordinate\n",
       "199997                    999.0      0.787237      6.423998\n",
       "199998                    999.0      0.874808      6.491312\n",
       "199999                    999.0      0.962378      6.558626"
      ]
     },
     "execution_count": 59,
     "metadata": {},
     "output_type": "execute_result"
    }
   ],
   "source": [
    "print(df_coordinates.head()) # You can print the first or last five rows of the dataframe to check its structure using .head()\n",
    "df_coordinates.tail(3) #passing in an argument determines the number of rows displayed"
   ]
  },
  {
   "cell_type": "markdown",
   "metadata": {},
   "source": [
    "### 4.1 Accessing and manipulating DataFrame structure and values "
   ]
  },
  {
   "cell_type": "markdown",
   "metadata": {},
   "source": [
    "The indices and column headings allow you to access parts of the DataFrame. This is a form of slicing. For instance, you could access different parts of the ```df_coordinates``` DataFrames in some of these ways:"
   ]
  },
  {
   "cell_type": "code",
   "execution_count": null,
   "metadata": {},
   "outputs": [],
   "source": [
    "print(df_coordinates['x_coordinate']) #access by column name\n",
    "print(df_coordinates[2:4]) #access by row index\n",
    "print(df_coordinates.loc[2:4, ['x_coordinate', 'y_coordinate']]) #by index and column names; N.B .loc is end-inclusive"
   ]
  },
  {
   "cell_type": "markdown",
   "metadata": {},
   "source": [
    "You can also filter on column value or name, e.g.:"
   ]
  },
  {
   "cell_type": "code",
   "execution_count": 112,
   "metadata": {},
   "outputs": [
    {
     "data": {
      "text/html": [
       "<div>\n",
       "<style scoped>\n",
       "    .dataframe tbody tr th:only-of-type {\n",
       "        vertical-align: middle;\n",
       "    }\n",
       "\n",
       "    .dataframe tbody tr th {\n",
       "        vertical-align: top;\n",
       "    }\n",
       "\n",
       "    .dataframe thead th {\n",
       "        text-align: right;\n",
       "    }\n",
       "</style>\n",
       "<table border=\"1\" class=\"dataframe\">\n",
       "  <thead>\n",
       "    <tr style=\"text-align: right;\">\n",
       "      <th></th>\n",
       "      <th>track_number_coordinate</th>\n",
       "      <th>x_coordinate</th>\n",
       "      <th>y_coordinate</th>\n",
       "    </tr>\n",
       "  </thead>\n",
       "  <tbody>\n",
       "    <tr>\n",
       "      <th>43</th>\n",
       "      <td>0.0</td>\n",
       "      <td>7.557949</td>\n",
       "      <td>0.585523</td>\n",
       "    </tr>\n",
       "    <tr>\n",
       "      <th>44</th>\n",
       "      <td>0.0</td>\n",
       "      <td>7.670513</td>\n",
       "      <td>0.568230</td>\n",
       "    </tr>\n",
       "    <tr>\n",
       "      <th>45</th>\n",
       "      <td>0.0</td>\n",
       "      <td>7.783077</td>\n",
       "      <td>0.550937</td>\n",
       "    </tr>\n",
       "    <tr>\n",
       "      <th>46</th>\n",
       "      <td>0.0</td>\n",
       "      <td>7.895642</td>\n",
       "      <td>0.533644</td>\n",
       "    </tr>\n",
       "    <tr>\n",
       "      <th>47</th>\n",
       "      <td>0.0</td>\n",
       "      <td>8.008206</td>\n",
       "      <td>0.516350</td>\n",
       "    </tr>\n",
       "    <tr>\n",
       "      <th>...</th>\n",
       "      <td>...</td>\n",
       "      <td>...</td>\n",
       "      <td>...</td>\n",
       "    </tr>\n",
       "    <tr>\n",
       "      <th>199795</th>\n",
       "      <td>998.0</td>\n",
       "      <td>8.954520</td>\n",
       "      <td>2.830610</td>\n",
       "    </tr>\n",
       "    <tr>\n",
       "      <th>199796</th>\n",
       "      <td>998.0</td>\n",
       "      <td>8.983976</td>\n",
       "      <td>2.695287</td>\n",
       "    </tr>\n",
       "    <tr>\n",
       "      <th>199797</th>\n",
       "      <td>998.0</td>\n",
       "      <td>9.013433</td>\n",
       "      <td>2.559964</td>\n",
       "    </tr>\n",
       "    <tr>\n",
       "      <th>199798</th>\n",
       "      <td>998.0</td>\n",
       "      <td>9.042890</td>\n",
       "      <td>2.424641</td>\n",
       "    </tr>\n",
       "    <tr>\n",
       "      <th>199799</th>\n",
       "      <td>998.0</td>\n",
       "      <td>9.072347</td>\n",
       "      <td>2.289318</td>\n",
       "    </tr>\n",
       "  </tbody>\n",
       "</table>\n",
       "<p>61528 rows × 3 columns</p>\n",
       "</div>"
      ],
      "text/plain": [
       "        track_number_coordinate  x_coordinate  y_coordinate\n",
       "43                          0.0      7.557949      0.585523\n",
       "44                          0.0      7.670513      0.568230\n",
       "45                          0.0      7.783077      0.550937\n",
       "46                          0.0      7.895642      0.533644\n",
       "47                          0.0      8.008206      0.516350\n",
       "...                         ...           ...           ...\n",
       "199795                    998.0      8.954520      2.830610\n",
       "199796                    998.0      8.983976      2.695287\n",
       "199797                    998.0      9.013433      2.559964\n",
       "199798                    998.0      9.042890      2.424641\n",
       "199799                    998.0      9.072347      2.289318\n",
       "\n",
       "[61528 rows x 3 columns]"
      ]
     },
     "execution_count": 112,
     "metadata": {},
     "output_type": "execute_result"
    }
   ],
   "source": [
    "df_coordinates[df_coordinates['x_coordinate'] > 7.5]"
   ]
  },
  {
   "cell_type": "markdown",
   "metadata": {},
   "source": [
    "It is possible to quickly access overall column properties as well:"
   ]
  },
  {
   "cell_type": "code",
   "execution_count": 62,
   "metadata": {},
   "outputs": [
    {
     "name": "stdout",
     "output_type": "stream",
     "text": [
      "count    1000.000000\n",
      "mean        1.115270\n",
      "std         3.671013\n",
      "min        -9.496631\n",
      "25%        -1.309327\n",
      "50%         1.188412\n",
      "75%         3.599850\n",
      "max         9.485344\n",
      "Name: x_displacement, dtype: float64\n",
      "count    1000.000000\n",
      "mean       -0.049176\n",
      "std         4.161444\n",
      "min        -9.796638\n",
      "25%        -3.132651\n",
      "50%        -0.024471\n",
      "75%         2.856045\n",
      "max         9.731128\n",
      "Name: y_displacement, dtype: float64\n"
     ]
    }
   ],
   "source": [
    "print(df_displacements['x_displacement'].describe())\n",
    "print(df_displacements['y_displacement'].describe())"
   ]
  },
  {
   "cell_type": "markdown",
   "metadata": {},
   "source": [
    "If you want to access a specific property of the column, this can be achieved in a similar way:"
   ]
  },
  {
   "cell_type": "code",
   "execution_count": 63,
   "metadata": {},
   "outputs": [
    {
     "data": {
      "text/plain": [
       "1.115270304507787"
      ]
     },
     "execution_count": 63,
     "metadata": {},
     "output_type": "execute_result"
    }
   ],
   "source": [
    "df_displacements['x_displacement'].mean()"
   ]
  },
  {
   "cell_type": "markdown",
   "metadata": {},
   "source": [
    "You can manipulate the DataFrame in a range of ways. For instance, you may want to reorder, add, or remove columns, or reassign specific values. We won't do this for this specific dataset, but these are some relevant functions:\n",
    "```python\n",
    "    df.rename(columns = {'oldname':'newname'}, inplace=True)\n",
    "    df.loc[index,['columnname']] = values\n",
    "    df.loc[:, 'columnname'] = np.array([5]*len(df)) #would replace all values in the column with 5\n",
    "    df.['name for new column'] = values #may be combination of other column values\n",
    "```"
   ]
  },
  {
   "cell_type": "markdown",
   "metadata": {},
   "source": [
    "Pandas also has a lot of in-built functions that can help you manipulate DataFrames. For instance, you can also sort dataframes by the values in specific columns, which may also be insightful. This uses ```.groupby()```. As an additional example: if we wanted to merge all columns into one DataFrame, the function ```.concat()``` can do this work for us. We can specify the way in which the columns should be 'glued together' (see the Pandas documentation):"
   ]
  },
  {
   "cell_type": "code",
   "execution_count": 32,
   "metadata": {},
   "outputs": [
    {
     "data": {
      "text/html": [
       "<div>\n",
       "<style scoped>\n",
       "    .dataframe tbody tr th:only-of-type {\n",
       "        vertical-align: middle;\n",
       "    }\n",
       "\n",
       "    .dataframe tbody tr th {\n",
       "        vertical-align: top;\n",
       "    }\n",
       "\n",
       "    .dataframe thead th {\n",
       "        text-align: right;\n",
       "    }\n",
       "</style>\n",
       "<table border=\"1\" class=\"dataframe\">\n",
       "  <thead>\n",
       "    <tr style=\"text-align: right;\">\n",
       "      <th></th>\n",
       "      <th>track_number_coordinate</th>\n",
       "      <th>x_coordinate</th>\n",
       "      <th>y_coordinate</th>\n",
       "      <th>track_number_displacement</th>\n",
       "      <th>x_displacement</th>\n",
       "      <th>y_displacement</th>\n",
       "      <th>track_number_run</th>\n",
       "      <th>run_length</th>\n",
       "    </tr>\n",
       "  </thead>\n",
       "  <tbody>\n",
       "    <tr>\n",
       "      <th>0</th>\n",
       "      <td>0.0</td>\n",
       "      <td>6.749012</td>\n",
       "      <td>5.516289</td>\n",
       "      <td>0.0</td>\n",
       "      <td>-0.564498</td>\n",
       "      <td>1.720419</td>\n",
       "      <td>0.0</td>\n",
       "      <td>5.9</td>\n",
       "    </tr>\n",
       "    <tr>\n",
       "      <th>1</th>\n",
       "      <td>0.0</td>\n",
       "      <td>6.860721</td>\n",
       "      <td>5.497076</td>\n",
       "      <td>1.0</td>\n",
       "      <td>3.099605</td>\n",
       "      <td>-4.293645</td>\n",
       "      <td>0.0</td>\n",
       "      <td>6.6</td>\n",
       "    </tr>\n",
       "    <tr>\n",
       "      <th>2</th>\n",
       "      <td>0.0</td>\n",
       "      <td>6.972429</td>\n",
       "      <td>5.477864</td>\n",
       "      <td>2.0</td>\n",
       "      <td>4.757247</td>\n",
       "      <td>-6.385991</td>\n",
       "      <td>0.0</td>\n",
       "      <td>5.0</td>\n",
       "    </tr>\n",
       "    <tr>\n",
       "      <th>3</th>\n",
       "      <td>0.0</td>\n",
       "      <td>7.084137</td>\n",
       "      <td>5.458652</td>\n",
       "      <td>3.0</td>\n",
       "      <td>3.142418</td>\n",
       "      <td>-0.197495</td>\n",
       "      <td>1.0</td>\n",
       "      <td>5.9</td>\n",
       "    </tr>\n",
       "    <tr>\n",
       "      <th>4</th>\n",
       "      <td>0.0</td>\n",
       "      <td>7.195846</td>\n",
       "      <td>5.439439</td>\n",
       "      <td>4.0</td>\n",
       "      <td>4.242554</td>\n",
       "      <td>-1.646336</td>\n",
       "      <td>1.0</td>\n",
       "      <td>5.1</td>\n",
       "    </tr>\n",
       "  </tbody>\n",
       "</table>\n",
       "</div>"
      ],
      "text/plain": [
       "   track_number_coordinate  x_coordinate  y_coordinate  \\\n",
       "0                      0.0      6.749012      5.516289   \n",
       "1                      0.0      6.860721      5.497076   \n",
       "2                      0.0      6.972429      5.477864   \n",
       "3                      0.0      7.084137      5.458652   \n",
       "4                      0.0      7.195846      5.439439   \n",
       "\n",
       "   track_number_displacement  x_displacement  y_displacement  \\\n",
       "0                        0.0       -0.564498        1.720419   \n",
       "1                        1.0        3.099605       -4.293645   \n",
       "2                        2.0        4.757247       -6.385991   \n",
       "3                        3.0        3.142418       -0.197495   \n",
       "4                        4.0        4.242554       -1.646336   \n",
       "\n",
       "   track_number_run  run_length  \n",
       "0               0.0         5.9  \n",
       "1               0.0         6.6  \n",
       "2               0.0         5.0  \n",
       "3               1.0         5.9  \n",
       "4               1.0         5.1  "
      ]
     },
     "execution_count": 32,
     "metadata": {},
     "output_type": "execute_result"
    }
   ],
   "source": [
    "df_total = pd.concat([df_coordinates, df_displacements, df_run_lengths], axis=1)\n",
    "df_total.head()"
   ]
  },
  {
   "cell_type": "markdown",
   "metadata": {},
   "source": [
    "### 4.2 Creating dataframes from other Python objects"
   ]
  },
  {
   "cell_type": "markdown",
   "metadata": {},
   "source": [
    "In the code above that generated the dataset, values were stored in lists that were then converted into columns in a DataFrame.\n",
    "    \n",
    "```python\n",
    "    df_coordinates = pd.DataFrame([coordinate_track_numbers_database, x_coordinate_database, y_coordinate_database])\n",
    "    df_coordinates = df_coordinates.transpose()\n",
    "    df_coordinates.columns = ['track_number_coordinate','x_coordinate', 'y_coordinate']\n",
    "```\n",
    "\n",
    "Here, the function ```pd.DataFrame``` takes a list of lists as its argument, and stores the values into a new DataFrame. Since these lists are taken as rows, we transpose to get the DataFrame we actually want. We then assign all of the columns a header, by which we can subsequently refer to them."
   ]
  },
  {
   "cell_type": "markdown",
   "metadata": {},
   "source": [
    "The ```pd.DataFrame``` function accepts several object types as arguments, not just lists: an ndarray (structured or homogeneous), Iterable, dictionary, or DataFrame. The dictionaries can consist of Series, arrays, constants, or list-like objects. As a result, the object is described as 'two-dimensional, size-mutable, potentially heterogeneous tabular data'. There are specific functions to construct DataFrames out of lists of tuples (```DataFrame.from_records```) and dictionaries (```DataFrame.from_dict```)."
   ]
  },
  {
   "cell_type": "markdown",
   "metadata": {},
   "source": [
    "### 4.3 Interconverting between (saved) files in your directory and DataFrames"
   ]
  },
  {
   "cell_type": "markdown",
   "metadata": {},
   "source": [
    "Pandas DataFrames exist in memory (like for instance NumPy arrays), but you can save them to a directory in a range of file formats (text, csv, or xslx):"
   ]
  },
  {
   "cell_type": "code",
   "execution_count": 258,
   "metadata": {},
   "outputs": [],
   "source": [
    "df_coordinates.to_csv('coordinates.csv', index=False) #saves the DataFrame df_coordinates to a csv named coordinates.csv"
   ]
  },
  {
   "cell_type": "markdown",
   "metadata": {},
   "source": [
    "Similarly, you can read in a range of file types to construct a Pandas DataFrame:"
   ]
  },
  {
   "cell_type": "code",
   "execution_count": 260,
   "metadata": {},
   "outputs": [
    {
     "data": {
      "text/html": [
       "<div>\n",
       "<style scoped>\n",
       "    .dataframe tbody tr th:only-of-type {\n",
       "        vertical-align: middle;\n",
       "    }\n",
       "\n",
       "    .dataframe tbody tr th {\n",
       "        vertical-align: top;\n",
       "    }\n",
       "\n",
       "    .dataframe thead th {\n",
       "        text-align: right;\n",
       "    }\n",
       "</style>\n",
       "<table border=\"1\" class=\"dataframe\">\n",
       "  <thead>\n",
       "    <tr style=\"text-align: right;\">\n",
       "      <th></th>\n",
       "      <th>track_number_coordinate</th>\n",
       "      <th>x_coordinate</th>\n",
       "      <th>y_coordinate</th>\n",
       "    </tr>\n",
       "  </thead>\n",
       "  <tbody>\n",
       "    <tr>\n",
       "      <th>0</th>\n",
       "      <td>0.0</td>\n",
       "      <td>5.270482</td>\n",
       "      <td>6.702521</td>\n",
       "    </tr>\n",
       "    <tr>\n",
       "      <th>1</th>\n",
       "      <td>0.0</td>\n",
       "      <td>5.379175</td>\n",
       "      <td>6.728379</td>\n",
       "    </tr>\n",
       "    <tr>\n",
       "      <th>2</th>\n",
       "      <td>0.0</td>\n",
       "      <td>5.487869</td>\n",
       "      <td>6.754237</td>\n",
       "    </tr>\n",
       "    <tr>\n",
       "      <th>3</th>\n",
       "      <td>0.0</td>\n",
       "      <td>5.596562</td>\n",
       "      <td>6.780095</td>\n",
       "    </tr>\n",
       "    <tr>\n",
       "      <th>4</th>\n",
       "      <td>0.0</td>\n",
       "      <td>5.705255</td>\n",
       "      <td>6.805952</td>\n",
       "    </tr>\n",
       "  </tbody>\n",
       "</table>\n",
       "</div>"
      ],
      "text/plain": [
       "   track_number_coordinate  x_coordinate  y_coordinate\n",
       "0                      0.0      5.270482      6.702521\n",
       "1                      0.0      5.379175      6.728379\n",
       "2                      0.0      5.487869      6.754237\n",
       "3                      0.0      5.596562      6.780095\n",
       "4                      0.0      5.705255      6.805952"
      ]
     },
     "execution_count": 260,
     "metadata": {},
     "output_type": "execute_result"
    }
   ],
   "source": [
    "df_newcoordinates = pd.read_csv('coordinates.csv') #reads a csv file coordinates.csv and places the values in a DataFrame\n",
    "df_newcoordinates.head()"
   ]
  },
  {
   "cell_type": "markdown",
   "metadata": {},
   "source": [
    "## 5. Data visualisation with Pandas"
   ]
  },
  {
   "cell_type": "markdown",
   "metadata": {},
   "source": [
    "Just as you can easily determine the mean or other properties for a given DataFrame column, you can also readily plot the values it stores! This uses ```matplotlib.pyplot``` functions that you may already know as attributes, and is a quick and handy way of visualising your data. There is a range of plots you can use, some of which will be showcased here.\n",
    "\n",
    "Pandas also has some plotting functions that take entire dataframes or series (rather than columns) as input. These include autocorrelation plots and scatter matrices, as well as other types of plots. These can be imported from ```pandas.plotting```. We will not these functions here, but they can can all be found in the visualisation section of the Pandas documentation."
   ]
  },
  {
   "cell_type": "markdown",
   "metadata": {},
   "source": [
    "### 5.1 Quick plots using columns of a single DataFrame"
   ]
  },
  {
   "cell_type": "markdown",
   "metadata": {},
   "source": [
    "It is straightforward to plot all values in a given DataFrame column. Let's start with the DataFrames for $attractant(x, y) = 1 + 5*x$ that we just generated."
   ]
  },
  {
   "cell_type": "markdown",
   "metadata": {},
   "source": [
    "We may want to visualise the distribution of all datapoints in two-dimensions, such as for ```df_coordinates```. It is very easy to make a scatterplot with Pandas. You apply the method ```.plot.scatter()``` to the DataFrame object (note you use the column names to set x and y), and then all that's left for you to do is to label and format the plot:"
   ]
  },
  {
   "cell_type": "code",
   "execution_count": 22,
   "metadata": {},
   "outputs": [
    {
     "data": {
      "text/plain": [
       "Text(0.5, 1.0, 'Density of tracks (N=1000, attractant = 1 + 5x)')"
      ]
     },
     "execution_count": 22,
     "metadata": {},
     "output_type": "execute_result"
    },
    {
     "data": {
      "image/png": "[encoded data removed]",
      "text/plain": [
       "<Figure size 432x288 with 1 Axes>"
      ]
     },
     "metadata": {
      "needs_background": "light"
     },
     "output_type": "display_data"
    }
   ],
   "source": [
    "axes = df_coordinates.plot.scatter(x='x_coordinate', y='y_coordinate', sharex = False) #sharex should be False by default\n",
    "axes.set_xlim([0.0,10.0])\n",
    "axes.set_ylim([0.0,10.0])\n",
    "axes.set_xlabel('x-coordinate')\n",
    "axes.set_ylabel('y-coordinate')\n",
    "axes.set_title('Density of tracks (N=1000, attractant = 1 + 5x)')"
   ]
  },
  {
   "cell_type": "markdown",
   "metadata": {},
   "source": [
    "For our dataset, this looks entirely full, since we have a lot of datapoints, and so is not very informative... Therefore, it is more sensible for us to plot the density of points. Pandas allows you to easily do this for two-dimensional data, using a type of plot known as a hexaplot:"
   ]
  },
  {
   "cell_type": "code",
   "execution_count": 57,
   "metadata": {},
   "outputs": [
    {
     "data": {
      "text/plain": [
       "Text(0.5, 1.0, 'Density of tracks (N=1000, attractant = 1 + 5x)')"
      ]
     },
     "execution_count": 57,
     "metadata": {},
     "output_type": "execute_result"
    },
    {
     "data": {
      "image/png": "[encoded data removed]",
      "text/plain": [
       "<Figure size 432x288 with 2 Axes>"
      ]
     },
     "metadata": {
      "needs_background": "light"
     },
     "output_type": "display_data"
    }
   ],
   "source": [
    "axes = df_coordinates.plot.hexbin(x='x_coordinate', y='y_coordinate',gridsize=20, sharex = False) #sharex should be False by default\n",
    "axes.set_xlim([0.0,10.0])\n",
    "axes.set_ylim([0.0,10.0])\n",
    "axes.set_xlabel('x-coordinate')\n",
    "axes.set_ylabel('y-coordinate')\n",
    "axes.set_title('Density of tracks (N=1000, attractant = 1 + 5x)')\n",
    "#plt.savefig('hexaplot.pdf')"
   ]
  },
  {
   "cell_type": "markdown",
   "metadata": {},
   "source": [
    "We may also want to plot some of the results of our analysis (in this case, the displacements and run lengths that our model has helpfully already returned for us). Pandas allows you to plot columns as histograms, bar charts, line plots, box plots, et cetera. As an example, this is how you would plot a histogram of the net displacement in the x-direction (note you specify which column you want to access using the column header):"
   ]
  },
  {
   "cell_type": "code",
   "execution_count": 55,
   "metadata": {},
   "outputs": [
    {
     "data": {
      "text/plain": [
       "Text(0.5, 1.0, 'Histogram of end-to-end distance in x-direction (N=1000, attractant = 1+5x)')"
      ]
     },
     "execution_count": 55,
     "metadata": {},
     "output_type": "execute_result"
    },
    {
     "data": {
      "image/png": "[encoded data removed]",
      "text/plain": [
       "<Figure size 432x288 with 1 Axes>"
      ]
     },
     "metadata": {
      "needs_background": "light"
     },
     "output_type": "display_data"
    }
   ],
   "source": [
    "ax = df_displacements['x_displacement'].hist(bins=20)\n",
    "ax.set_xlabel('Net displacement in x-direction (arbitrary units)')\n",
    "ax.set_ylabel('Number of occurrences')\n",
    "ax.set_title('Histogram of end-to-end distance in x-direction (N=1000, attractant = 1+5x)')"
   ]
  },
  {
   "cell_type": "markdown",
   "metadata": {},
   "source": [
    "We can also do this for two different columns at once, which is conveniently achieved if the dataframe has an internal dictionary structure:"
   ]
  },
  {
   "cell_type": "code",
   "execution_count": 56,
   "metadata": {},
   "outputs": [
    {
     "data": {
      "text/plain": [
       "Text(0.5, 1.0, 'Net displacement in x and y (N=1000, attractant = 1+5x)')"
      ]
     },
     "execution_count": 56,
     "metadata": {},
     "output_type": "execute_result"
    },
    {
     "data": {
      "image/png": "[encoded data removed]",
      "text/plain": [
       "<Figure size 432x288 with 1 Axes>"
      ]
     },
     "metadata": {
      "needs_background": "light"
     },
     "output_type": "display_data"
    }
   ],
   "source": [
    "df_dict = pd.DataFrame({'x': df_displacements['x_displacement'], 'y': df_displacements['y_displacement']}, columns=['x', 'y'])\n",
    "ax = df_dict.plot.hist(bins=20, alpha=0.5) #alpha sets the opacity of the bars\n",
    "ax.set_xlabel('Net displacement')\n",
    "ax.set_ylabel('Number of occurrences')\n",
    "ax.set_title('Net displacement in x and y (N=1000, attractant = 1+5x)')\n",
    "#plt.savefig('histogram.pdf')"
   ]
  },
  {
   "cell_type": "markdown",
   "metadata": {},
   "source": [
    "### 5.2 Comparing different DataFrames"
   ]
  },
  {
   "cell_type": "markdown",
   "metadata": {},
   "source": [
    "You may have acquired multiple datasets that correspond to different conditions, which you have read in as different DataFrames from different files. In this final subsection, we'll explore how to visualise data from such different DataFrames in one plot. "
   ]
  },
  {
   "cell_type": "markdown",
   "metadata": {},
   "source": [
    "Let's start by loading several csv files that contain a thousand random tracks for different (constant) attractant levels:"
   ]
  },
  {
   "cell_type": "code",
   "execution_count": 80,
   "metadata": {},
   "outputs": [],
   "source": [
    "df_one = pd.read_csv('attractantisone.csv')\n",
    "df_five = pd.read_csv('attractantisfive.csv')\n",
    "df_ten = pd.read_csv('attractantisten.csv')"
   ]
  },
  {
   "cell_type": "markdown",
   "metadata": {},
   "source": [
    "We would expect the run length to be different for these, at least in this model, and may want to compare those values. You could in principle create a new DataFrame using columns from these ones, but this is not necessary. Instead, you can plot all in the same figure in an iterative manner:"
   ]
  },
  {
   "cell_type": "code",
   "execution_count": 105,
   "metadata": {},
   "outputs": [
    {
     "data": {
      "text/plain": [
       "Text(0.5, 1.0, 'Comparison of run length at different attractant concentrations')"
      ]
     },
     "execution_count": 105,
     "metadata": {},
     "output_type": "execute_result"
    },
    {
     "data": {
      "image/png": "[encoded data removed]",
      "text/plain": [
       "<Figure size 432x288 with 1 Axes>"
      ]
     },
     "metadata": {
      "needs_background": "light"
     },
     "output_type": "display_data"
    }
   ],
   "source": [
    "fig = plt.figure()\n",
    "\n",
    "for frame in [df_one, df_five, df_ten]:\n",
    "    frame['run_length'].plot.hist(bins=15, alpha=0.8)\n",
    "plt.legend(['One','Five','Ten'])\n",
    "axes = plt.gca()\n",
    "axes.set_xlabel('Run length')\n",
    "axes.set_title('Comparison of run length at different attractant concentrations')"
   ]
  },
  {
   "cell_type": "markdown",
   "metadata": {},
   "source": [
    "Note this way of plotting really shows the effect of the time step size in our simple model!"
   ]
  },
  {
   "cell_type": "markdown",
   "metadata": {},
   "source": [
    "## 6. Further resources\n",
    "\n",
    "This notebook is not intended as a complete overview of Pandas. Instead, it should have given you enough understanding of the library to go forth and discover the other functions it has to offer! Most of these you will be able to find by googling a question you have, but you can also search the Pandas documentation directly.\n",
    "\n",
    "The Pandas documentation can be found here: https://pandas.pydata.org/pandas-docs/stable/index.html\n",
    "\n",
    "If you'd like to revise some of the concepts from this notebook, these Youtube videos could help you get you started:\n",
    "- A short introduction to basic DataFrame manipulation: https://www.youtube.com/watch?v=e60ItwlZTKM\n",
    "- An hour-long introduction to Pandas: https://www.youtube.com/watch?v=vmEHCJofslg (you can watch this at increased playback speed)\n",
    "\n",
    "If you'd like to learn more about chemotaxis, this may be of interest: https://www.cell.com/current-biology/comments/S0960-9822(02)01424-0 (Webre et al., 2003, *Current Biology*)"
   ]
  },
  {
   "cell_type": "markdown",
   "metadata": {},
   "source": [
    "## 7. Exercises"
   ]
  },
  {
   "cell_type": "markdown",
   "metadata": {},
   "source": [
    "1. Derive the ```df_displacement``` values from the ```df_coordinates``` values.\n",
    "2. Visit the visualisation section of the Pandas documentation (https://pandas.pydata.org/pandas-docs/stable/user_guide/visualization.html). Using the provided dataset, generate one of the plot types not showcased in the notebook. If you like, you can modify the constants or the attractant concentration function to change the cell's behaviour in any way you find interesting to create your own dataset.\n",
    "3. Return to the statistics notebook, and compare two different columns in a quantitative way. \n",
    "4. Load one of your own tabular datasets into a Pandas DataFrame, and make an interesting plot!"
   ]
  }
 ],
 "metadata": {
  "kernelspec": {
   "display_name": "Python 3",
   "language": "python",
   "name": "python3"
  },
  "language_info": {
   "codemirror_mode": {
    "name": "ipython",
    "version": 3
   },
   "file_extension": ".py",
   "mimetype": "text/x-python",
   "name": "python",
   "nbconvert_exporter": "python",
   "pygments_lexer": "ipython3",
   "version": "3.7.3"
  }
 },
 "nbformat": 4,
 "nbformat_minor": 4
}
